{
 "cells": [
  {
   "cell_type": "markdown",
   "id": "b3cd9965-0bbd-4f80-b1bd-7442065e49ed",
   "metadata": {},
   "source": [
    "### Sample Algorithms"
   ]
  },
  {
   "cell_type": "markdown",
   "id": "3cc4d6c9-0c24-4796-a7b9-1c9df31deabf",
   "metadata": {},
   "source": [
    "* Blueshift: https://github.com/QuantInsti/blueshift-demo-strategies\n",
    "* Back trader: https://github.com/samwindham1/algo-trader/tree/master/backtest/algos\n",
    "* Vector bt: https://github.com/polakowo/vectorbt/tree/master/examples\n",
    "* Jesse: https://github.com/jesse-ai/example-strategies\n",
    "* Blankly: https://github.com/blankly-finance/blankly/tree/main/examples\n",
    "* Pyalgotrade: https://github.com/gbeced/pyalgotrade/tree/master/samples\n",
    "* Zipline: https://github.com/quantopian/zipline/tree/master/zipline/examples\n",
    "* Backtesting.py: https://github.com/kernc/backtesting.py/tree/master/doc/examples"
   ]
  },
  {
   "cell_type": "markdown",
   "id": "418ddcb9-d491-47b1-b2b1-c1b0e0f0fd53",
   "metadata": {},
   "source": [
    "### Just run following code to install any of the packages below and run in inside Quanturf platform"
   ]
  },
  {
   "cell_type": "markdown",
   "id": "fe849888-8077-4948-9ec8-4752550ebf21",
   "metadata": {},
   "source": [
    "To do\n",
    "* Get the subfolders only\n",
    "* Prepare sample jupyter note books for all "
   ]
  },
  {
   "cell_type": "code",
   "execution_count": null,
   "id": "7fba6a2b-4af7-4b3f-a35a-46d589ebb1f1",
   "metadata": {},
   "outputs": [],
   "source": [
    "Repo.clone_from(\"https://github.com/QuantInsti/blueshift-demo-strategies\", \"blueshift\")"
   ]
  },
  {
   "cell_type": "code",
   "execution_count": null,
   "id": "154a44c4-6bbb-47f6-a0a4-670c554aca3d",
   "metadata": {},
   "outputs": [],
   "source": [
    "Repo.clone_from(\"https://github.com/samwindham1/algo-trader/\", \"backtrader\")"
   ]
  },
  {
   "cell_type": "code",
   "execution_count": null,
   "id": "42088d76-a26e-4103-8ac9-77592420c342",
   "metadata": {},
   "outputs": [],
   "source": [
    "Repo.clone_from(\"https://github.com/polakowo/vectorbt\", \"vectorbt\")"
   ]
  },
  {
   "cell_type": "code",
   "execution_count": null,
   "id": "c1740ef0-713f-4fbc-9ac2-4e2d4c4e19ce",
   "metadata": {},
   "outputs": [],
   "source": [
    "Repo.clone_from(\"https://github.com/QuantInsti/blueshift-demo-strategies\", \"blueshift\")"
   ]
  },
  {
   "cell_type": "code",
   "execution_count": null,
   "id": "7da306f1-ecd6-4416-8192-da7f1a52dc07",
   "metadata": {},
   "outputs": [],
   "source": [
    "Repo.clone_from(\"https://github.com/QuantInsti/blueshift-demo-strategies\", \"blueshift\")"
   ]
  },
  {
   "cell_type": "code",
   "execution_count": null,
   "id": "970ac597-2912-433b-a05a-c723f5816930",
   "metadata": {},
   "outputs": [],
   "source": [
    "Repo.clone_from(\"https://github.com/QuantInsti/blueshift-demo-strategies\", \"blueshift\")"
   ]
  },
  {
   "cell_type": "code",
   "execution_count": null,
   "id": "f886bc03-3818-4f2c-9edd-d70480120c97",
   "metadata": {},
   "outputs": [],
   "source": [
    "Repo.clone_from(\"https://github.com/QuantInsti/blueshift-demo-strategies\", \"blueshift\")"
   ]
  },
  {
   "cell_type": "code",
   "execution_count": null,
   "id": "b35c9d10-243c-4017-8238-0b4159ca66e7",
   "metadata": {},
   "outputs": [],
   "source": [
    "Repo.clone_from(\"https://github.com/QuantInsti/blueshift-demo-strategies\", \"blueshift\")"
   ]
  }
 ],
 "metadata": {
  "kernelspec": {
   "display_name": "Python 3 (ipykernel)",
   "language": "python",
   "name": "python3"
  },
  "language_info": {
   "codemirror_mode": {
    "name": "ipython",
    "version": 3
   },
   "file_extension": ".py",
   "mimetype": "text/x-python",
   "name": "python",
   "nbconvert_exporter": "python",
   "pygments_lexer": "ipython3",
   "version": "3.9.12"
  }
 },
 "nbformat": 4,
 "nbformat_minor": 5
}
