{
 "cells": [
  {
   "cell_type": "code",
   "execution_count": 15,
   "id": "c6350984",
   "metadata": {},
   "outputs": [],
   "source": [
    "import alpaca_trade_api as tradeapi\n",
    "import pandas as pd \n",
    "import numpy as np\n",
    "import os\n",
    "from alpaca_trade_api import REST\n",
    "import datetime\n",
    "from threading import Thread\n",
    "import time"
   ]
  },
  {
   "cell_type": "markdown",
   "id": "0d244a88",
   "metadata": {},
   "source": [
    "### Running two processes together\n"
   ]
  },
  {
   "cell_type": "code",
   "execution_count": 16,
   "id": "a21d2c57",
   "metadata": {},
   "outputs": [],
   "source": [
    "os.environ['APCA_API_KEY_ID'] = 'PKHBYX4FPUNUUKQQ6LP6'\n",
    "os.environ['APCA_API_SECRET_KEY'] = 'H294z2QNFl53zsiPnfeLIeSvaM4fqi4Uaa9HfZqp'\n",
    "os.environ['APCA_API_BASE_URL'] = 'https://paper-api.alpaca.markets'\n",
    "api = REST() "
   ]
  },
  {
   "cell_type": "code",
   "execution_count": 17,
   "id": "8cf485f7",
   "metadata": {},
   "outputs": [],
   "source": [
    "def func1():\n",
    "    print('Submitting order')    \n",
    "    api = REST()\n",
    "    client_id = \"TradingStrategy\" + \"_\" + str(datetime.datetime.now())\n",
    "    api.submit_order(\n",
    "    symbol='AAPL',\n",
    "    qty=1,\n",
    "    side='buy',\n",
    "    type='market',\n",
    "    time_in_force='gtc',\n",
    "    client_order_id=client_id)\n",
    "    time.sleep(2.4)\n",
    "\n",
    "def func2():\n",
    "    print(\"Getting order details\")  \n",
    "    api = REST()\n",
    "    trades = api.get_activities()\n",
    "    for trade in trades:\n",
    "      order_ids = trade.order_id\n",
    "      price = float(trade.price)\n",
    "      qty = int(trade.qty)\n",
    "      side = trade.side\n",
    "      symbol = trade.symbol\n",
    "      client_order_id = api.get_order(trade.order_id).client_order_id\n",
    "        # Parse the client order id for \"Trading Strategy\"\n",
    "      print(client_order_id)\n",
    "      alpaca_id = trade.id\n",
    "      \n",
    "#     api = REST()\n",
    "#     my_order = api.get_order_by_client_order_id('my_second_order')\n",
    "#     print('Got order #{}'.format(my_order.id))\n",
    "\n"
   ]
  },
  {
   "cell_type": "code",
   "execution_count": 18,
   "id": "8710a3cd",
   "metadata": {},
   "outputs": [
    {
     "name": "stdout",
     "output_type": "stream",
     "text": [
      "Submitting order\n",
      "Getting order details\n",
      "b39594c2-96fc-43ab-a2d3-e73778543ef8\n",
      "db84ffc7-2b0e-4b5d-b9db-065849194d65\n"
     ]
    }
   ],
   "source": [
    "# Multithreading - run and retrive trades\n",
    "if __name__ == '__main__':    \n",
    "    Thread(target = func1).start()\n",
    "    Thread(target = func2).start()"
   ]
  },
  {
   "cell_type": "code",
   "execution_count": 19,
   "id": "8e83e2b9",
   "metadata": {},
   "outputs": [
    {
     "name": "stdout",
     "output_type": "stream",
     "text": [
      "Submitting order\n",
      "Getting order details\n",
      "b39594c2-96fc-43ab-a2d3-e73778543ef8\n",
      "db84ffc7-2b0e-4b5d-b9db-065849194d65\n"
     ]
    }
   ],
   "source": [
    "#No multithreading - one step after another\n",
    "if __name__ == '__main__':\n",
    "    func1()\n",
    "    func2()"
   ]
  },
  {
   "cell_type": "markdown",
   "id": "bbccdd0c",
   "metadata": {},
   "source": [
    "### Scheduler"
   ]
  },
  {
   "cell_type": "markdown",
   "id": "57994234",
   "metadata": {},
   "source": [
    "https://cron.help/"
   ]
  },
  {
   "cell_type": "code",
   "execution_count": 26,
   "id": "85edbd2e",
   "metadata": {},
   "outputs": [],
   "source": [
    "from time import sleep\n",
    "\n",
    "from apscheduler.schedulers.background import BackgroundScheduler\n",
    "from apscheduler.triggers.cron import CronTrigger"
   ]
  },
  {
   "cell_type": "markdown",
   "id": "875375cb",
   "metadata": {},
   "source": [
    "#Schedule the algo to run every second or at specific time"
   ]
  },
  {
   "cell_type": "code",
   "execution_count": 31,
   "id": "9e76a080",
   "metadata": {},
   "outputs": [
    {
     "name": "stdout",
     "output_type": "stream",
     "text": [
      "hello world\n",
      "hello world\n",
      "hello world\n"
     ]
    }
   ],
   "source": [
    "def foo(bar):\n",
    "    print(bar)\n",
    "\n",
    "\n",
    "def main():\n",
    "    scheduler = BackgroundScheduler()\n",
    "    scheduler.start()\n",
    "\n",
    "    trigger = CronTrigger(\n",
    "        year=\"*\", month=\"*\", day=\"*\", hour=\"*\", minute=\"*\", second=\"*\"\n",
    "    )\n",
    "    scheduler.add_job(\n",
    "        foo,\n",
    "        trigger=trigger,\n",
    "        args=[\"hello world\"],\n",
    "        name=\"daily foo\",\n",
    "    )\n",
    "    while True:\n",
    "        sleep(5)\n",
    "\n",
    "\n",
    "if __name__ == \"__main__\":\n",
    "    main()"
   ]
  },
  {
   "cell_type": "code",
   "execution_count": null,
   "id": "0d9bf51f",
   "metadata": {},
   "outputs": [],
   "source": []
  }
 ],
 "metadata": {
  "kernelspec": {
   "display_name": "Python 3 (ipykernel)",
   "language": "python",
   "name": "python3"
  },
  "language_info": {
   "codemirror_mode": {
    "name": "ipython",
    "version": 3
   },
   "file_extension": ".py",
   "mimetype": "text/x-python",
   "name": "python",
   "nbconvert_exporter": "python",
   "pygments_lexer": "ipython3",
   "version": "3.9.13"
  }
 },
 "nbformat": 4,
 "nbformat_minor": 5
}
