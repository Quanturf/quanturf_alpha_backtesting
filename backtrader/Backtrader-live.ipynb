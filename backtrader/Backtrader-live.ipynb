{
 "cells": [
  {
   "cell_type": "markdown",
   "id": "8dad9408-2b73-44fa-9b3d-852fd8e5379f",
   "metadata": {},
   "source": [
    "# Algo Trading- Backtrader-Master Template\n",
    "\n",
    "In this notebook, we will build a backtrader strategy using any trading algorithm\n"
   ]
  },
  {
   "cell_type": "markdown",
   "id": "8c8e062e-50d8-4dcd-acd2-73c2a562c5e8",
   "metadata": {},
   "source": [
    "To do:\n",
    "* Make the tearsheet work\n",
    "* or use the tearsheet of omegaUI\n",
    "* Put Teststrategy.py in the algos folder"
   ]
  },
  {
   "cell_type": "markdown",
   "id": "851e74c6-17a3-438a-ae5b-a72b3c01d187",
   "metadata": {},
   "source": [
    "[1. Step 1 : Loading the algorithm](#1)\n",
    "\n",
    "[2. Step 2 : Setting the backtester](#2)\n",
    "\n",
    "[3. Step 3 : Getting the backtest output](#3)"
   ]
  },
  {
   "cell_type": "code",
   "execution_count": 2,
   "id": "e7941a28-a07c-438a-8fb5-570d6e22e96b",
   "metadata": {},
   "outputs": [
    {
     "name": "stderr",
     "output_type": "stream",
     "text": [
      "C:\\Users\\tatsa\\anaconda3\\Lib\\site-packages\\pyfolio\\pos.py:26: UserWarning: Module \"zipline.assets\" not found; mutltipliers will not be applied to position notionals.\n",
      "  warnings.warn(\n"
     ]
    }
   ],
   "source": [
    "import logging\n",
    "import os\n",
    "import pandas as pd\n",
    "import backtrader as bt\n",
    "import yfinance as yf\n",
    "import matplotlib.pyplot as plt\n",
    "import pyfolio as pf"
   ]
  },
  {
   "cell_type": "markdown",
   "id": "98c1ca77-f054-41d5-8bb7-920db7ee6f44",
   "metadata": {},
   "source": [
    "<a id='1'></a>\n",
    "## 1. Step 1 : Loading the algorithm\n",
    "In this step we load a sample TestStrategy which is created separately in a python file."
   ]
  },
  {
   "cell_type": "code",
   "execution_count": 3,
   "id": "505442e3-79c1-41ec-ab36-f33566978981",
   "metadata": {},
   "outputs": [],
   "source": [
    "from TestStrategy import TestStrategy"
   ]
  },
  {
   "cell_type": "markdown",
   "id": "c5edd049-a0ed-4d7d-92f5-a1b6a8037655",
   "metadata": {},
   "source": [
    "<a id='2'></a>\n",
    "## 2. Step 2 : Setting the backtester\n",
    "In this step, we set up a backtester, with cash amount, data and strategy name updated."
   ]
  },
  {
   "cell_type": "code",
   "execution_count": 4,
   "id": "c1249bd4-1bad-49f3-ac46-3d0342350387",
   "metadata": {},
   "outputs": [],
   "source": [
    "def backtest():\n",
    "    #path_dir = os.path.dirname(os.path.realpath(__file__))\n",
    "    \n",
    "    cash = 100000\n",
    "    symbols = ['AAPL','AMZN']\n",
    "    #start_date = '2018-01-01'\n",
    "    path_dir = 'Data'\n",
    "    #strategy = \"TestStrategy\"\n",
    "    \n",
    "    cerebro = bt.Cerebro()\n",
    "    cerebro.broker.setcash(cash)\n",
    "\n",
    "    for s in symbols:\n",
    "            df = pd.read_csv(os.path.join(path_dir, '{}.csv'.format(s)), parse_dates=True, index_col=0)\n",
    "            data = bt.feeds.PandasData(dataname=df)\n",
    "            cerebro.adddata(data)\n",
    "    #data = bt.feeds.PandasData(dataname=yf.download('TSLA', '2018-01-01', '2018-01-10'))\n",
    "    #cerebro.adddata(data)\n",
    "\n",
    "    # Strategy\n",
    "    cerebro.addstrategy(TestStrategy)\n",
    "\n",
    "\n",
    "    cerebro.addanalyzer(bt.analyzers.PyFolio, _name='pyfolio')\n",
    "    cerebro.addanalyzer(bt.analyzers.DrawDown, _name='drawdown')\n",
    "    cerebro.addanalyzer(bt.analyzers.SQN, _name='SQN')\n",
    "    cerebro.addanalyzer(bt.analyzers.TradeAnalyzer, _name='trades')\n",
    "    #cerebro.adddata(data)\n",
    "    # Backtest\n",
    "\n",
    "    print('Starting Portfolio Value: ', cerebro.broker.getvalue())\n",
    "    plt.rcParams['figure.figsize']=[10,6]\n",
    "    plt.rcParams[\"font.size\"]=\"12\"\n",
    "    # Run over everything\n",
    "    results = cerebro.run()\n",
    "    pnl = cerebro.broker.getvalue() - cash\n",
    "    #cerebro.plot()\n",
    "    # Print out the final result\n",
    "    print('Final Portfolio Value: ' , cerebro.broker.getvalue())    \n",
    "    strat = results[0]\n",
    "    pyfoliozer = strat.analyzers.getbyname('pyfolio')\n",
    "    returns, positions, transactions, gross_lev = pyfoliozer.get_pf_items()\n",
    "    return returns, positions, transactions, gross_lev, pnl\n",
    "    #return results[0], pnl"
   ]
  },
  {
   "cell_type": "code",
   "execution_count": 5,
   "id": "3636b046-8c62-46f3-a9f0-fc5bb8de537e",
   "metadata": {},
   "outputs": [],
   "source": [
    "def test_results():\n",
    "    returns, positions, transactions, gross_lev, pnl = backtest()\n",
    "    # returns, pnl = backtest()"
   ]
  },
  {
   "cell_type": "code",
   "execution_count": 6,
   "id": "48881834-f9d6-41dd-aad1-e42d256452fd",
   "metadata": {},
   "outputs": [
    {
     "name": "stdout",
     "output_type": "stream",
     "text": [
      "Starting Portfolio Value:  100000\n",
      "Final Portfolio Value:  94485.26799999991\n"
     ]
    }
   ],
   "source": [
    "test_results()"
   ]
  },
  {
   "cell_type": "markdown",
   "id": "18a98ecc-d366-4f78-9414-d0b9d1fd63bb",
   "metadata": {},
   "source": [
    "<a id='3'></a>\n",
    "## 3. Step 3 : Getting the backtest output\n",
    "In this step, we set up a backtester, with cash amount, data and strategy name updated."
   ]
  },
  {
   "cell_type": "code",
   "execution_count": 7,
   "id": "45aec50f-27d2-4f84-b15d-a67b958eb644",
   "metadata": {},
   "outputs": [
    {
     "name": "stdout",
     "output_type": "stream",
     "text": [
      "Starting Portfolio Value:  100000\n",
      "Final Portfolio Value:  94485.26799999991\n"
     ]
    }
   ],
   "source": [
    "returns, positions, transactions, gross_lev, pnl = backtest()"
   ]
  },
  {
   "cell_type": "code",
   "execution_count": 8,
   "id": "7aaa23c3-65e2-4377-a320-82210b6b2b65",
   "metadata": {},
   "outputs": [
    {
     "ename": "TypeError",
     "evalue": "create_full_tear_sheet() got an unexpected keyword argument 'gross_lev'",
     "output_type": "error",
     "traceback": [
      "\u001b[1;31m---------------------------------------------------------------------------\u001b[0m",
      "\u001b[1;31mTypeError\u001b[0m                                 Traceback (most recent call last)",
      "Input \u001b[1;32mIn [8]\u001b[0m, in \u001b[0;36m<cell line: 1>\u001b[1;34m()\u001b[0m\n\u001b[1;32m----> 1\u001b[0m \u001b[43mpf\u001b[49m\u001b[38;5;241;43m.\u001b[39;49m\u001b[43mcreate_full_tear_sheet\u001b[49m\u001b[43m(\u001b[49m\n\u001b[0;32m      2\u001b[0m \u001b[43m    \u001b[49m\u001b[43mreturns\u001b[49m\u001b[43m,\u001b[49m\n\u001b[0;32m      3\u001b[0m \u001b[43m    \u001b[49m\u001b[43mpositions\u001b[49m\u001b[38;5;241;43m=\u001b[39;49m\u001b[43mpositions\u001b[49m\u001b[43m,\u001b[49m\n\u001b[0;32m      4\u001b[0m \u001b[43m    \u001b[49m\u001b[43mtransactions\u001b[49m\u001b[38;5;241;43m=\u001b[39;49m\u001b[43mtransactions\u001b[49m\u001b[43m,\u001b[49m\n\u001b[0;32m      5\u001b[0m \u001b[43m    \u001b[49m\u001b[43mgross_lev\u001b[49m\u001b[38;5;241;43m=\u001b[39;49m\u001b[43mgross_lev\u001b[49m\u001b[43m,\u001b[49m\n\u001b[0;32m      6\u001b[0m \u001b[43m    \u001b[49m\u001b[43mlive_start_date\u001b[49m\u001b[38;5;241;43m=\u001b[39;49m\u001b[38;5;124;43m'\u001b[39;49m\u001b[38;5;124;43m2005-05-01\u001b[39;49m\u001b[38;5;124;43m'\u001b[39;49m\u001b[43m,\u001b[49m\u001b[43m  \u001b[49m\u001b[38;5;66;43;03m# This date is sample specific\u001b[39;49;00m\n\u001b[0;32m      7\u001b[0m \u001b[43m    \u001b[49m\u001b[43mround_trips\u001b[49m\u001b[38;5;241;43m=\u001b[39;49m\u001b[38;5;28;43;01mTrue\u001b[39;49;00m\u001b[43m)\u001b[49m\n",
      "\u001b[1;31mTypeError\u001b[0m: create_full_tear_sheet() got an unexpected keyword argument 'gross_lev'"
     ]
    }
   ],
   "source": [
    "pf.create_full_tear_sheet(\n",
    "    returns,\n",
    "    positions=positions,\n",
    "    transactions=transactions,\n",
    "    gross_lev=gross_lev,\n",
    "    live_start_date='2005-05-01',  # This date is sample specific\n",
    "    round_trips=True)\n"
   ]
  },
  {
   "cell_type": "markdown",
   "id": "9294ca5e-6208-411a-8e54-1bdb383065f2",
   "metadata": {},
   "source": [
    "<a id='4'></a>\n",
    "## 4. Step 4 : Live Trading\n",
    "In this step, we set up a backtester, with cash amount, data and strategy name update"
   ]
  },
  {
   "cell_type": "code",
   "execution_count": 9,
   "id": "d54b0483-4bf8-4837-8a87-0bd84ac55ffc",
   "metadata": {},
   "outputs": [
    {
     "ename": "ModuleNotFoundError",
     "evalue": "No module named 'alpaca_backtrader_api'",
     "output_type": "error",
     "traceback": [
      "\u001b[1;31m---------------------------------------------------------------------------\u001b[0m",
      "\u001b[1;31mModuleNotFoundError\u001b[0m                       Traceback (most recent call last)",
      "Input \u001b[1;32mIn [9]\u001b[0m, in \u001b[0;36m<cell line: 1>\u001b[1;34m()\u001b[0m\n\u001b[1;32m----> 1\u001b[0m \u001b[38;5;28;01mimport\u001b[39;00m \u001b[38;5;21;01malpaca_backtrader_api\u001b[39;00m\n\u001b[0;32m      2\u001b[0m \u001b[38;5;28;01mimport\u001b[39;00m \u001b[38;5;21;01mbacktrader\u001b[39;00m \u001b[38;5;28;01mas\u001b[39;00m \u001b[38;5;21;01mbt\u001b[39;00m\n\u001b[0;32m      3\u001b[0m \u001b[38;5;28;01mfrom\u001b[39;00m \u001b[38;5;21;01mdatetime\u001b[39;00m \u001b[38;5;28;01mimport\u001b[39;00m datetime\n",
      "\u001b[1;31mModuleNotFoundError\u001b[0m: No module named 'alpaca_backtrader_api'"
     ]
    }
   ],
   "source": [
    "import alpaca_backtrader_api\n",
    "import backtrader as bt\n",
    "from datetime import datetime"
   ]
  },
  {
   "cell_type": "code",
   "execution_count": 11,
   "id": "7f88d500-9c5d-46b0-9741-860cb659ad51",
   "metadata": {},
   "outputs": [],
   "source": [
    "#!pip install alpaca_backtrader_api"
   ]
  },
  {
   "cell_type": "code",
   "execution_count": null,
   "id": "9b9c019a-21d9-4441-825a-4fcaea71eff2",
   "metadata": {},
   "outputs": [],
   "source": [
    "ALPACA_API_KEY = PKCDJNRZQFLHN2HB3S8W\n",
    "ALPACA_SECRET_KEY = CpywEeePTEciIiueHHbBdOnKMlH7P6sKVcKvvbhn\n",
    "ALPACA_PAPER = True"
   ]
  },
  {
   "cell_type": "code",
   "execution_count": null,
   "id": "2773af8f-70e9-4116-bf5b-394b50c0b40a",
   "metadata": {},
   "outputs": [],
   "source": [
    "class SmaCross(bt.SignalStrategy):\n",
    "  def __init__(self):\n",
    "    sma1, sma2 = bt.ind.SMA(period=10), bt.ind.SMA(period=30)\n",
    "    crossover = bt.ind.CrossOver(sma1, sma2)\n",
    "    self.signal_add(bt.SIGNAL_LONG, crossover)"
   ]
  },
  {
   "cell_type": "code",
   "execution_count": null,
   "id": "0a20b277-50f2-4e91-932b-59ad30bad510",
   "metadata": {},
   "outputs": [],
   "source": [
    "cerebro = bt.Cerebro()\n",
    "cerebro.addstrategy(SmaCross)\n",
    "\n",
    "store = alpaca_backtrader_api.AlpacaStore(\n",
    "    key_id=ALPACA_API_KEY,\n",
    "    secret_key=ALPACA_SECRET_KEY,\n",
    "    paper=ALPACA_PAPER\n",
    ")\n",
    "\n",
    "if not ALPACA_PAPER:\n",
    "  broker = store.getbroker()  # or just alpaca_backtrader_api.AlpacaBroker()\n",
    "  cerebro.setbroker(broker)\n",
    "\n",
    "DataFactory = store.getdata  # or use alpaca_backtrader_api.AlpacaData\n",
    "data0 = DataFactory(dataname='AAPL', historical=True, fromdate=datetime(\n",
    "    2015, 1, 1), timeframe=bt.TimeFrame.Days)\n",
    "cerebro.adddata(data0)\n",
    "\n",
    "print('Starting Portfolio Value: %.2f' % cerebro.broker.getvalue())\n",
    "cerebro.run()\n",
    "print('Final Portfolio Value: %.2f' % cerebro.broker.getvalue())\n",
    "cerebro.plot()"
   ]
  }
 ],
 "metadata": {
  "kernelspec": {
   "display_name": "Python 3 (ipykernel)",
   "language": "python",
   "name": "python3"
  },
  "language_info": {
   "codemirror_mode": {
    "name": "ipython",
    "version": 3
   },
   "file_extension": ".py",
   "mimetype": "text/x-python",
   "name": "python",
   "nbconvert_exporter": "python",
   "pygments_lexer": "ipython3",
   "version": "3.9.12"
  }
 },
 "nbformat": 4,
 "nbformat_minor": 5
}
