{
 "cells": [
  {
   "cell_type": "markdown",
   "id": "a9f4fa17",
   "metadata": {},
   "source": [
    "# Golden Cross with Blankly\n",
    "\n",
    "This tutorial goes over how to implement a golden cross using Blankly in a Jupyter Notebook. \n",
    "\n",
    "Blankly is like any other package in that it allows users to easily interact with its various functions, explore the data, do processing, and only when they're ready, to fully create a useful `Strategy`. Today we're going to investigate the golden cross strategy using Simple Moving Averages of 50 and 100 \n"
   ]
  },
  {
   "cell_type": "markdown",
   "id": "a88ebc66",
   "metadata": {},
   "source": [
    "## Environment Setup"
   ]
  },
  {
   "cell_type": "markdown",
   "id": "0b139093",
   "metadata": {},
   "source": [
    "### `blankly init` \n",
    "\n",
    "To easily initialize our codebase and the necessary files, let's simply run `blankly init` in the command line"
   ]
  },
  {
   "cell_type": "code",
   "execution_count": 1,
   "id": "4780743f",
   "metadata": {},
   "outputs": [
    {
     "name": "stdout",
     "output_type": "stream",
     "text": [
      "Initializing...\n",
      "\n",
      "██████╗ ██╗      █████╗ ███╗   ██╗██╗  ██╗██╗  ██╗   ██╗    ███████╗██╗███╗   ██╗ █████╗ ███╗   ██╗ ██████╗███████╗\n",
      "██╔══██╗██║     ██╔══██╗████╗  ██║██║ ██╔╝██║  ╚██╗ ██╔╝    ██╔════╝██║████╗  ██║██╔══██╗████╗  ██║██╔════╝██╔════╝\n",
      "██████╔╝██║     ███████║██╔██╗ ██║█████╔╝ ██║   ╚████╔╝     █████╗  ██║██╔██╗ ██║███████║██╔██╗ ██║██║     █████╗  \n",
      "██╔══██╗██║     ██╔══██║██║╚██╗██║██╔═██╗ ██║    ╚██╔╝      ██╔══╝  ██║██║╚██╗██║██╔══██║██║╚██╗██║██║     ██╔══╝  \n",
      "██████╔╝███████╗██║  ██║██║ ╚████║██║  ██╗███████╗██║       ██║     ██║██║ ╚████║██║  ██║██║ ╚████║╚██████╗███████╗\n",
      "╚═════╝ ╚══════╝╚═╝  ╚═╝╚═╝  ╚═══╝╚═╝  ╚═╝╚══════╝╚═╝       ╚═╝     ╚═╝╚═╝  ╚═══╝╚═╝  ╚═╝╚═╝  ╚═══╝ ╚═════╝╚══════╝\n",
      "\n",
      "Downloading keys template...\n",
      "Already exists - skipping...\n",
      "Downloading settings defaults...\n",
      "Already exists - skipping...\n",
      "Downloading backtest defaults...\n",
      "Already exists - skipping...\n",
      "Downloading RSI bot example...\n",
      "Already exists - skipping...\n",
      "Writing deployment defaults...\n",
      "Already exists - skipping...\n",
      "Writing requirements.txt defaults...\n",
      "Already exists - skipping...\n",
      "Done!\n"
     ]
    }
   ],
   "source": [
    "!blankly init"
   ]
  },
  {
   "cell_type": "markdown",
   "id": "c7561279",
   "metadata": {},
   "source": [
    "As you can see, our directory now has everything that we need :D"
   ]
  },
  {
   "cell_type": "code",
   "execution_count": 2,
   "id": "b67d2b56",
   "metadata": {},
   "outputs": [
    {
     "name": "stdout",
     "output_type": "stream",
     "text": [
      "Golden Cross with Blankly.ipynb keys.json\r\n",
      "backtest.json                   \u001b[34mprice_caches\u001b[m\u001b[m\r\n",
      "blankly.json                    requirements.txt\r\n",
      "bot.py                          settings.json\r\n"
     ]
    }
   ],
   "source": [
    "!ls"
   ]
  },
  {
   "cell_type": "markdown",
   "id": "65e4482d",
   "metadata": {},
   "source": [
    "### `keys.json`"
   ]
  },
  {
   "cell_type": "markdown",
   "id": "ad61137a",
   "metadata": {},
   "source": [
    "Make sure that you have in the same directory as your jupyter notebook, the necessary `keys.json` that houses all of your API keys that you are going to use. To check out how to get keys setup, look [here](https://docs.blankly.finance/config/keys.json), we will be using Alpaca in this tutorial so make sure you have your Alpaca keys"
   ]
  },
  {
   "cell_type": "markdown",
   "id": "3c0cc7bb",
   "metadata": {},
   "source": [
    "## Imports\n",
    "\n",
    "The imports are pretty straight forward. Blankly allows you to easily import everything you need almost directly nad houses a variety of [built-in indicators](https://docs.blankly.finance/metrics/indicators) that you can directly use. \n",
    "\n",
    "*Note the `bokeh.io` import for `output_notebook`, this is important to allow the graphs to display (such as backtest results)*"
   ]
  },
  {
   "cell_type": "code",
   "execution_count": 3,
   "id": "25886875",
   "metadata": {},
   "outputs": [
    {
     "data": {
      "text/html": [
       "\n",
       "    <div class=\"bk-root\">\n",
       "        <a href=\"https://bokeh.org\" target=\"_blank\" class=\"bk-logo bk-logo-small bk-logo-notebook\"></a>\n",
       "        <span id=\"1002\">Loading BokehJS ...</span>\n",
       "    </div>"
      ]
     },
     "metadata": {},
     "output_type": "display_data"
    },
    {
     "data": {
      "application/javascript": [
       "\n",
       "(function(root) {\n",
       "  function now() {\n",
       "    return new Date();\n",
       "  }\n",
       "\n",
       "  const force = true;\n",
       "\n",
       "  if (typeof root._bokeh_onload_callbacks === \"undefined\" || force === true) {\n",
       "    root._bokeh_onload_callbacks = [];\n",
       "    root._bokeh_is_loading = undefined;\n",
       "  }\n",
       "\n",
       "  const JS_MIME_TYPE = 'application/javascript';\n",
       "  const HTML_MIME_TYPE = 'text/html';\n",
       "  const EXEC_MIME_TYPE = 'application/vnd.bokehjs_exec.v0+json';\n",
       "  const CLASS_NAME = 'output_bokeh rendered_html';\n",
       "\n",
       "  /**\n",
       "   * Render data to the DOM node\n",
       "   */\n",
       "  function render(props, node) {\n",
       "    const script = document.createElement(\"script\");\n",
       "    node.appendChild(script);\n",
       "  }\n",
       "\n",
       "  /**\n",
       "   * Handle when an output is cleared or removed\n",
       "   */\n",
       "  function handleClearOutput(event, handle) {\n",
       "    const cell = handle.cell;\n",
       "\n",
       "    const id = cell.output_area._bokeh_element_id;\n",
       "    const server_id = cell.output_area._bokeh_server_id;\n",
       "    // Clean up Bokeh references\n",
       "    if (id != null && id in Bokeh.index) {\n",
       "      Bokeh.index[id].model.document.clear();\n",
       "      delete Bokeh.index[id];\n",
       "    }\n",
       "\n",
       "    if (server_id !== undefined) {\n",
       "      // Clean up Bokeh references\n",
       "      const cmd_clean = \"from bokeh.io.state import curstate; print(curstate().uuid_to_server['\" + server_id + \"'].get_sessions()[0].document.roots[0]._id)\";\n",
       "      cell.notebook.kernel.execute(cmd_clean, {\n",
       "        iopub: {\n",
       "          output: function(msg) {\n",
       "            const id = msg.content.text.trim();\n",
       "            if (id in Bokeh.index) {\n",
       "              Bokeh.index[id].model.document.clear();\n",
       "              delete Bokeh.index[id];\n",
       "            }\n",
       "          }\n",
       "        }\n",
       "      });\n",
       "      // Destroy server and session\n",
       "      const cmd_destroy = \"import bokeh.io.notebook as ion; ion.destroy_server('\" + server_id + \"')\";\n",
       "      cell.notebook.kernel.execute(cmd_destroy);\n",
       "    }\n",
       "  }\n",
       "\n",
       "  /**\n",
       "   * Handle when a new output is added\n",
       "   */\n",
       "  function handleAddOutput(event, handle) {\n",
       "    const output_area = handle.output_area;\n",
       "    const output = handle.output;\n",
       "\n",
       "    // limit handleAddOutput to display_data with EXEC_MIME_TYPE content only\n",
       "    if ((output.output_type != \"display_data\") || (!Object.prototype.hasOwnProperty.call(output.data, EXEC_MIME_TYPE))) {\n",
       "      return\n",
       "    }\n",
       "\n",
       "    const toinsert = output_area.element.find(\".\" + CLASS_NAME.split(' ')[0]);\n",
       "\n",
       "    if (output.metadata[EXEC_MIME_TYPE][\"id\"] !== undefined) {\n",
       "      toinsert[toinsert.length - 1].firstChild.textContent = output.data[JS_MIME_TYPE];\n",
       "      // store reference to embed id on output_area\n",
       "      output_area._bokeh_element_id = output.metadata[EXEC_MIME_TYPE][\"id\"];\n",
       "    }\n",
       "    if (output.metadata[EXEC_MIME_TYPE][\"server_id\"] !== undefined) {\n",
       "      const bk_div = document.createElement(\"div\");\n",
       "      bk_div.innerHTML = output.data[HTML_MIME_TYPE];\n",
       "      const script_attrs = bk_div.children[0].attributes;\n",
       "      for (let i = 0; i < script_attrs.length; i++) {\n",
       "        toinsert[toinsert.length - 1].firstChild.setAttribute(script_attrs[i].name, script_attrs[i].value);\n",
       "        toinsert[toinsert.length - 1].firstChild.textContent = bk_div.children[0].textContent\n",
       "      }\n",
       "      // store reference to server id on output_area\n",
       "      output_area._bokeh_server_id = output.metadata[EXEC_MIME_TYPE][\"server_id\"];\n",
       "    }\n",
       "  }\n",
       "\n",
       "  function register_renderer(events, OutputArea) {\n",
       "\n",
       "    function append_mime(data, metadata, element) {\n",
       "      // create a DOM node to render to\n",
       "      const toinsert = this.create_output_subarea(\n",
       "        metadata,\n",
       "        CLASS_NAME,\n",
       "        EXEC_MIME_TYPE\n",
       "      );\n",
       "      this.keyboard_manager.register_events(toinsert);\n",
       "      // Render to node\n",
       "      const props = {data: data, metadata: metadata[EXEC_MIME_TYPE]};\n",
       "      render(props, toinsert[toinsert.length - 1]);\n",
       "      element.append(toinsert);\n",
       "      return toinsert\n",
       "    }\n",
       "\n",
       "    /* Handle when an output is cleared or removed */\n",
       "    events.on('clear_output.CodeCell', handleClearOutput);\n",
       "    events.on('delete.Cell', handleClearOutput);\n",
       "\n",
       "    /* Handle when a new output is added */\n",
       "    events.on('output_added.OutputArea', handleAddOutput);\n",
       "\n",
       "    /**\n",
       "     * Register the mime type and append_mime function with output_area\n",
       "     */\n",
       "    OutputArea.prototype.register_mime_type(EXEC_MIME_TYPE, append_mime, {\n",
       "      /* Is output safe? */\n",
       "      safe: true,\n",
       "      /* Index of renderer in `output_area.display_order` */\n",
       "      index: 0\n",
       "    });\n",
       "  }\n",
       "\n",
       "  // register the mime type if in Jupyter Notebook environment and previously unregistered\n",
       "  if (root.Jupyter !== undefined) {\n",
       "    const events = require('base/js/events');\n",
       "    const OutputArea = require('notebook/js/outputarea').OutputArea;\n",
       "\n",
       "    if (OutputArea.prototype.mime_types().indexOf(EXEC_MIME_TYPE) == -1) {\n",
       "      register_renderer(events, OutputArea);\n",
       "    }\n",
       "  }\n",
       "\n",
       "  \n",
       "  if (typeof (root._bokeh_timeout) === \"undefined\" || force === true) {\n",
       "    root._bokeh_timeout = Date.now() + 5000;\n",
       "    root._bokeh_failed_load = false;\n",
       "  }\n",
       "\n",
       "  const NB_LOAD_WARNING = {'data': {'text/html':\n",
       "     \"<div style='background-color: #fdd'>\\n\"+\n",
       "     \"<p>\\n\"+\n",
       "     \"BokehJS does not appear to have successfully loaded. If loading BokehJS from CDN, this \\n\"+\n",
       "     \"may be due to a slow or bad network connection. Possible fixes:\\n\"+\n",
       "     \"</p>\\n\"+\n",
       "     \"<ul>\\n\"+\n",
       "     \"<li>re-rerun `output_notebook()` to attempt to load from CDN again, or</li>\\n\"+\n",
       "     \"<li>use INLINE resources instead, as so:</li>\\n\"+\n",
       "     \"</ul>\\n\"+\n",
       "     \"<code>\\n\"+\n",
       "     \"from bokeh.resources import INLINE\\n\"+\n",
       "     \"output_notebook(resources=INLINE)\\n\"+\n",
       "     \"</code>\\n\"+\n",
       "     \"</div>\"}};\n",
       "\n",
       "  function display_loaded() {\n",
       "    const el = document.getElementById(\"1002\");\n",
       "    if (el != null) {\n",
       "      el.textContent = \"BokehJS is loading...\";\n",
       "    }\n",
       "    if (root.Bokeh !== undefined) {\n",
       "      if (el != null) {\n",
       "        el.textContent = \"BokehJS \" + root.Bokeh.version + \" successfully loaded.\";\n",
       "      }\n",
       "    } else if (Date.now() < root._bokeh_timeout) {\n",
       "      setTimeout(display_loaded, 100)\n",
       "    }\n",
       "  }\n",
       "\n",
       "\n",
       "  function run_callbacks() {\n",
       "    try {\n",
       "      root._bokeh_onload_callbacks.forEach(function(callback) {\n",
       "        if (callback != null)\n",
       "          callback();\n",
       "      });\n",
       "    } finally {\n",
       "      delete root._bokeh_onload_callbacks\n",
       "    }\n",
       "    console.debug(\"Bokeh: all callbacks have finished\");\n",
       "  }\n",
       "\n",
       "  function load_libs(css_urls, js_urls, callback) {\n",
       "    if (css_urls == null) css_urls = [];\n",
       "    if (js_urls == null) js_urls = [];\n",
       "\n",
       "    root._bokeh_onload_callbacks.push(callback);\n",
       "    if (root._bokeh_is_loading > 0) {\n",
       "      console.debug(\"Bokeh: BokehJS is being loaded, scheduling callback at\", now());\n",
       "      return null;\n",
       "    }\n",
       "    if (js_urls == null || js_urls.length === 0) {\n",
       "      run_callbacks();\n",
       "      return null;\n",
       "    }\n",
       "    console.debug(\"Bokeh: BokehJS not loaded, scheduling load and callback at\", now());\n",
       "    root._bokeh_is_loading = css_urls.length + js_urls.length;\n",
       "\n",
       "    function on_load() {\n",
       "      root._bokeh_is_loading--;\n",
       "      if (root._bokeh_is_loading === 0) {\n",
       "        console.debug(\"Bokeh: all BokehJS libraries/stylesheets loaded\");\n",
       "        run_callbacks()\n",
       "      }\n",
       "    }\n",
       "\n",
       "    function on_error(url) {\n",
       "      console.error(\"failed to load \" + url);\n",
       "    }\n",
       "\n",
       "    for (let i = 0; i < css_urls.length; i++) {\n",
       "      const url = css_urls[i];\n",
       "      const element = document.createElement(\"link\");\n",
       "      element.onload = on_load;\n",
       "      element.onerror = on_error.bind(null, url);\n",
       "      element.rel = \"stylesheet\";\n",
       "      element.type = \"text/css\";\n",
       "      element.href = url;\n",
       "      console.debug(\"Bokeh: injecting link tag for BokehJS stylesheet: \", url);\n",
       "      document.body.appendChild(element);\n",
       "    }\n",
       "\n",
       "    for (let i = 0; i < js_urls.length; i++) {\n",
       "      const url = js_urls[i];\n",
       "      const element = document.createElement('script');\n",
       "      element.onload = on_load;\n",
       "      element.onerror = on_error.bind(null, url);\n",
       "      element.async = false;\n",
       "      element.src = url;\n",
       "      console.debug(\"Bokeh: injecting script tag for BokehJS library: \", url);\n",
       "      document.head.appendChild(element);\n",
       "    }\n",
       "  };\n",
       "\n",
       "  function inject_raw_css(css) {\n",
       "    const element = document.createElement(\"style\");\n",
       "    element.appendChild(document.createTextNode(css));\n",
       "    document.body.appendChild(element);\n",
       "  }\n",
       "\n",
       "  \n",
       "  const js_urls = [\"https://cdn.bokeh.org/bokeh/release/bokeh-2.4.2.min.js\", \"https://cdn.bokeh.org/bokeh/release/bokeh-gl-2.4.2.min.js\", \"https://cdn.bokeh.org/bokeh/release/bokeh-widgets-2.4.2.min.js\", \"https://cdn.bokeh.org/bokeh/release/bokeh-tables-2.4.2.min.js\", \"https://cdn.bokeh.org/bokeh/release/bokeh-mathjax-2.4.2.min.js\"];\n",
       "  const css_urls = [];\n",
       "  \n",
       "\n",
       "  const inline_js = [\n",
       "    function(Bokeh) {\n",
       "      Bokeh.set_log_level(\"info\");\n",
       "    },\n",
       "    function(Bokeh) {\n",
       "    \n",
       "    \n",
       "    }\n",
       "  ];\n",
       "\n",
       "  function run_inline_js() {\n",
       "    \n",
       "    if (root.Bokeh !== undefined || force === true) {\n",
       "      \n",
       "    for (let i = 0; i < inline_js.length; i++) {\n",
       "      inline_js[i].call(root, root.Bokeh);\n",
       "    }\n",
       "    if (force === true) {\n",
       "        display_loaded();\n",
       "      }} else if (Date.now() < root._bokeh_timeout) {\n",
       "      setTimeout(run_inline_js, 100);\n",
       "    } else if (!root._bokeh_failed_load) {\n",
       "      console.log(\"Bokeh: BokehJS failed to load within specified timeout.\");\n",
       "      root._bokeh_failed_load = true;\n",
       "    } else if (force !== true) {\n",
       "      const cell = $(document.getElementById(\"1002\")).parents('.cell').data().cell;\n",
       "      cell.output_area.append_execute_result(NB_LOAD_WARNING)\n",
       "    }\n",
       "\n",
       "  }\n",
       "\n",
       "  if (root._bokeh_is_loading === 0) {\n",
       "    console.debug(\"Bokeh: BokehJS loaded, going straight to plotting\");\n",
       "    run_inline_js();\n",
       "  } else {\n",
       "    load_libs(css_urls, js_urls, function() {\n",
       "      console.debug(\"Bokeh: BokehJS plotting callback run at\", now());\n",
       "      run_inline_js();\n",
       "    });\n",
       "  }\n",
       "}(window));"
      ],
      "application/vnd.bokehjs_load.v0+json": "\n(function(root) {\n  function now() {\n    return new Date();\n  }\n\n  const force = true;\n\n  if (typeof root._bokeh_onload_callbacks === \"undefined\" || force === true) {\n    root._bokeh_onload_callbacks = [];\n    root._bokeh_is_loading = undefined;\n  }\n\n  \n\n  \n  if (typeof (root._bokeh_timeout) === \"undefined\" || force === true) {\n    root._bokeh_timeout = Date.now() + 5000;\n    root._bokeh_failed_load = false;\n  }\n\n  const NB_LOAD_WARNING = {'data': {'text/html':\n     \"<div style='background-color: #fdd'>\\n\"+\n     \"<p>\\n\"+\n     \"BokehJS does not appear to have successfully loaded. If loading BokehJS from CDN, this \\n\"+\n     \"may be due to a slow or bad network connection. Possible fixes:\\n\"+\n     \"</p>\\n\"+\n     \"<ul>\\n\"+\n     \"<li>re-rerun `output_notebook()` to attempt to load from CDN again, or</li>\\n\"+\n     \"<li>use INLINE resources instead, as so:</li>\\n\"+\n     \"</ul>\\n\"+\n     \"<code>\\n\"+\n     \"from bokeh.resources import INLINE\\n\"+\n     \"output_notebook(resources=INLINE)\\n\"+\n     \"</code>\\n\"+\n     \"</div>\"}};\n\n  function display_loaded() {\n    const el = document.getElementById(\"1002\");\n    if (el != null) {\n      el.textContent = \"BokehJS is loading...\";\n    }\n    if (root.Bokeh !== undefined) {\n      if (el != null) {\n        el.textContent = \"BokehJS \" + root.Bokeh.version + \" successfully loaded.\";\n      }\n    } else if (Date.now() < root._bokeh_timeout) {\n      setTimeout(display_loaded, 100)\n    }\n  }\n\n\n  function run_callbacks() {\n    try {\n      root._bokeh_onload_callbacks.forEach(function(callback) {\n        if (callback != null)\n          callback();\n      });\n    } finally {\n      delete root._bokeh_onload_callbacks\n    }\n    console.debug(\"Bokeh: all callbacks have finished\");\n  }\n\n  function load_libs(css_urls, js_urls, callback) {\n    if (css_urls == null) css_urls = [];\n    if (js_urls == null) js_urls = [];\n\n    root._bokeh_onload_callbacks.push(callback);\n    if (root._bokeh_is_loading > 0) {\n      console.debug(\"Bokeh: BokehJS is being loaded, scheduling callback at\", now());\n      return null;\n    }\n    if (js_urls == null || js_urls.length === 0) {\n      run_callbacks();\n      return null;\n    }\n    console.debug(\"Bokeh: BokehJS not loaded, scheduling load and callback at\", now());\n    root._bokeh_is_loading = css_urls.length + js_urls.length;\n\n    function on_load() {\n      root._bokeh_is_loading--;\n      if (root._bokeh_is_loading === 0) {\n        console.debug(\"Bokeh: all BokehJS libraries/stylesheets loaded\");\n        run_callbacks()\n      }\n    }\n\n    function on_error(url) {\n      console.error(\"failed to load \" + url);\n    }\n\n    for (let i = 0; i < css_urls.length; i++) {\n      const url = css_urls[i];\n      const element = document.createElement(\"link\");\n      element.onload = on_load;\n      element.onerror = on_error.bind(null, url);\n      element.rel = \"stylesheet\";\n      element.type = \"text/css\";\n      element.href = url;\n      console.debug(\"Bokeh: injecting link tag for BokehJS stylesheet: \", url);\n      document.body.appendChild(element);\n    }\n\n    for (let i = 0; i < js_urls.length; i++) {\n      const url = js_urls[i];\n      const element = document.createElement('script');\n      element.onload = on_load;\n      element.onerror = on_error.bind(null, url);\n      element.async = false;\n      element.src = url;\n      console.debug(\"Bokeh: injecting script tag for BokehJS library: \", url);\n      document.head.appendChild(element);\n    }\n  };\n\n  function inject_raw_css(css) {\n    const element = document.createElement(\"style\");\n    element.appendChild(document.createTextNode(css));\n    document.body.appendChild(element);\n  }\n\n  \n  const js_urls = [\"https://cdn.bokeh.org/bokeh/release/bokeh-2.4.2.min.js\", \"https://cdn.bokeh.org/bokeh/release/bokeh-gl-2.4.2.min.js\", \"https://cdn.bokeh.org/bokeh/release/bokeh-widgets-2.4.2.min.js\", \"https://cdn.bokeh.org/bokeh/release/bokeh-tables-2.4.2.min.js\", \"https://cdn.bokeh.org/bokeh/release/bokeh-mathjax-2.4.2.min.js\"];\n  const css_urls = [];\n  \n\n  const inline_js = [\n    function(Bokeh) {\n      Bokeh.set_log_level(\"info\");\n    },\n    function(Bokeh) {\n    \n    \n    }\n  ];\n\n  function run_inline_js() {\n    \n    if (root.Bokeh !== undefined || force === true) {\n      \n    for (let i = 0; i < inline_js.length; i++) {\n      inline_js[i].call(root, root.Bokeh);\n    }\n    if (force === true) {\n        display_loaded();\n      }} else if (Date.now() < root._bokeh_timeout) {\n      setTimeout(run_inline_js, 100);\n    } else if (!root._bokeh_failed_load) {\n      console.log(\"Bokeh: BokehJS failed to load within specified timeout.\");\n      root._bokeh_failed_load = true;\n    } else if (force !== true) {\n      const cell = $(document.getElementById(\"1002\")).parents('.cell').data().cell;\n      cell.output_area.append_execute_result(NB_LOAD_WARNING)\n    }\n\n  }\n\n  if (root._bokeh_is_loading === 0) {\n    console.debug(\"Bokeh: BokehJS loaded, going straight to plotting\");\n    run_inline_js();\n  } else {\n    load_libs(css_urls, js_urls, function() {\n      console.debug(\"Bokeh: BokehJS plotting callback run at\", now());\n      run_inline_js();\n    });\n  }\n}(window));"
     },
     "metadata": {},
     "output_type": "display_data"
    }
   ],
   "source": [
    "from blankly import Strategy, StrategyState, Alpaca\n",
    "from blankly.indicators import sma\n",
    "from bokeh.io import output_notebook # this is to ensure that any plots are displayed in jupyter notebook\n",
    "output_notebook()"
   ]
  },
  {
   "cell_type": "markdown",
   "id": "0ae4e7b8",
   "metadata": {},
   "source": [
    "## Grabbing Some Data\n",
    "\n",
    "Let's take a look at the power of Blankly by initializing an interface and then grabbing some price data"
   ]
  },
  {
   "cell_type": "code",
   "execution_count": 4,
   "id": "767a0e78",
   "metadata": {},
   "outputs": [
    {
     "name": "stderr",
     "output_type": "stream",
     "text": [
      "INFO: No portfolio name to load specified, defaulting to the first in the file: (alpaca test portfolio). This is fine if there is only one portfolio in use.\n",
      "INFO: \"use_yfinance\" not specified in preferences, defaulting to: \"False\"\n"
     ]
    }
   ],
   "source": [
    "a = Alpaca() # this initializes an alpaca exchange"
   ]
  },
  {
   "cell_type": "markdown",
   "id": "054bc2c2",
   "metadata": {},
   "source": [
    "### Easily Get the Last X Bars"
   ]
  },
  {
   "cell_type": "code",
   "execution_count": 5,
   "id": "47a3de93",
   "metadata": {},
   "outputs": [
    {
     "data": {
      "text/html": [
       "<div>\n",
       "<style scoped>\n",
       "    .dataframe tbody tr th:only-of-type {\n",
       "        vertical-align: middle;\n",
       "    }\n",
       "\n",
       "    .dataframe tbody tr th {\n",
       "        vertical-align: top;\n",
       "    }\n",
       "\n",
       "    .dataframe thead th {\n",
       "        text-align: right;\n",
       "    }\n",
       "</style>\n",
       "<table border=\"1\" class=\"dataframe\">\n",
       "  <thead>\n",
       "    <tr style=\"text-align: right;\">\n",
       "      <th></th>\n",
       "      <th>time</th>\n",
       "      <th>open</th>\n",
       "      <th>high</th>\n",
       "      <th>low</th>\n",
       "      <th>close</th>\n",
       "      <th>volume</th>\n",
       "    </tr>\n",
       "  </thead>\n",
       "  <tbody>\n",
       "    <tr>\n",
       "      <th>0</th>\n",
       "      <td>1640754000</td>\n",
       "      <td>302.94</td>\n",
       "      <td>305.48</td>\n",
       "      <td>293.6600</td>\n",
       "      <td>299.97</td>\n",
       "      <td>32036645.0</td>\n",
       "    </tr>\n",
       "    <tr>\n",
       "      <th>1</th>\n",
       "      <td>1640840400</td>\n",
       "      <td>298.28</td>\n",
       "      <td>304.57</td>\n",
       "      <td>295.4000</td>\n",
       "      <td>295.88</td>\n",
       "      <td>29281826.0</td>\n",
       "    </tr>\n",
       "    <tr>\n",
       "      <th>2</th>\n",
       "      <td>1640926800</td>\n",
       "      <td>296.75</td>\n",
       "      <td>300.30</td>\n",
       "      <td>293.3057</td>\n",
       "      <td>294.21</td>\n",
       "      <td>24464247.0</td>\n",
       "    </tr>\n",
       "    <tr>\n",
       "      <th>3</th>\n",
       "      <td>1641186000</td>\n",
       "      <td>298.24</td>\n",
       "      <td>307.11</td>\n",
       "      <td>297.8500</td>\n",
       "      <td>301.25</td>\n",
       "      <td>35656625.0</td>\n",
       "    </tr>\n",
       "    <tr>\n",
       "      <th>4</th>\n",
       "      <td>1641272400</td>\n",
       "      <td>302.61</td>\n",
       "      <td>304.68</td>\n",
       "      <td>283.4900</td>\n",
       "      <td>292.99</td>\n",
       "      <td>49212953.0</td>\n",
       "    </tr>\n",
       "  </tbody>\n",
       "</table>\n",
       "</div>"
      ],
      "text/plain": [
       "         time    open    high       low   close      volume\n",
       "0  1640754000  302.94  305.48  293.6600  299.97  32036645.0\n",
       "1  1640840400  298.28  304.57  295.4000  295.88  29281826.0\n",
       "2  1640926800  296.75  300.30  293.3057  294.21  24464247.0\n",
       "3  1641186000  298.24  307.11  297.8500  301.25  35656625.0\n",
       "4  1641272400  302.61  304.68  283.4900  292.99  49212953.0"
      ]
     },
     "execution_count": 5,
     "metadata": {},
     "output_type": "execute_result"
    }
   ],
   "source": [
    "# this gets the last 5 OHLC points for NVDA\n",
    "a.interface.history('NVDA', 5, resolution='1d') "
   ]
  },
  {
   "cell_type": "markdown",
   "id": "a593a991",
   "metadata": {},
   "source": [
    "### Or Get Between Two Dates"
   ]
  },
  {
   "cell_type": "code",
   "execution_count": 6,
   "id": "3d8a4f32",
   "metadata": {},
   "outputs": [
    {
     "data": {
      "text/html": [
       "<div>\n",
       "<style scoped>\n",
       "    .dataframe tbody tr th:only-of-type {\n",
       "        vertical-align: middle;\n",
       "    }\n",
       "\n",
       "    .dataframe tbody tr th {\n",
       "        vertical-align: top;\n",
       "    }\n",
       "\n",
       "    .dataframe thead th {\n",
       "        text-align: right;\n",
       "    }\n",
       "</style>\n",
       "<table border=\"1\" class=\"dataframe\">\n",
       "  <thead>\n",
       "    <tr style=\"text-align: right;\">\n",
       "      <th></th>\n",
       "      <th>high</th>\n",
       "      <th>low</th>\n",
       "      <th>volume</th>\n",
       "      <th>close</th>\n",
       "      <th>open</th>\n",
       "      <th>time</th>\n",
       "    </tr>\n",
       "  </thead>\n",
       "  <tbody>\n",
       "    <tr>\n",
       "      <th>0</th>\n",
       "      <td>239.9100</td>\n",
       "      <td>236.7200</td>\n",
       "      <td>5948415.0</td>\n",
       "      <td>239.91</td>\n",
       "      <td>238.85</td>\n",
       "      <td>1577941200</td>\n",
       "    </tr>\n",
       "    <tr>\n",
       "      <th>1</th>\n",
       "      <td>237.8300</td>\n",
       "      <td>234.1000</td>\n",
       "      <td>5145208.0</td>\n",
       "      <td>236.07</td>\n",
       "      <td>235.00</td>\n",
       "      <td>1578027600</td>\n",
       "    </tr>\n",
       "    <tr>\n",
       "      <th>2</th>\n",
       "      <td>237.2700</td>\n",
       "      <td>231.2700</td>\n",
       "      <td>6603313.0</td>\n",
       "      <td>237.06</td>\n",
       "      <td>232.36</td>\n",
       "      <td>1578286800</td>\n",
       "    </tr>\n",
       "    <tr>\n",
       "      <th>3</th>\n",
       "      <td>241.7700</td>\n",
       "      <td>236.3900</td>\n",
       "      <td>7980144.0</td>\n",
       "      <td>239.93</td>\n",
       "      <td>238.20</td>\n",
       "      <td>1578373200</td>\n",
       "    </tr>\n",
       "    <tr>\n",
       "      <th>4</th>\n",
       "      <td>242.0400</td>\n",
       "      <td>238.1490</td>\n",
       "      <td>6931017.0</td>\n",
       "      <td>240.38</td>\n",
       "      <td>239.76</td>\n",
       "      <td>1578459600</td>\n",
       "    </tr>\n",
       "    <tr>\n",
       "      <th>5</th>\n",
       "      <td>245.9297</td>\n",
       "      <td>240.8550</td>\n",
       "      <td>6386105.0</td>\n",
       "      <td>243.02</td>\n",
       "      <td>243.55</td>\n",
       "      <td>1578546000</td>\n",
       "    </tr>\n",
       "    <tr>\n",
       "      <th>6</th>\n",
       "      <td>248.5500</td>\n",
       "      <td>243.7500</td>\n",
       "      <td>7911735.0</td>\n",
       "      <td>244.32</td>\n",
       "      <td>247.48</td>\n",
       "      <td>1578632400</td>\n",
       "    </tr>\n",
       "    <tr>\n",
       "      <th>7</th>\n",
       "      <td>252.9884</td>\n",
       "      <td>246.7500</td>\n",
       "      <td>8008491.0</td>\n",
       "      <td>251.98</td>\n",
       "      <td>247.66</td>\n",
       "      <td>1578891600</td>\n",
       "    </tr>\n",
       "    <tr>\n",
       "      <th>8</th>\n",
       "      <td>251.2800</td>\n",
       "      <td>246.7500</td>\n",
       "      <td>8989483.0</td>\n",
       "      <td>247.28</td>\n",
       "      <td>250.51</td>\n",
       "      <td>1578978000</td>\n",
       "    </tr>\n",
       "    <tr>\n",
       "      <th>9</th>\n",
       "      <td>248.6891</td>\n",
       "      <td>244.5300</td>\n",
       "      <td>6578446.0</td>\n",
       "      <td>245.57</td>\n",
       "      <td>247.79</td>\n",
       "      <td>1579064400</td>\n",
       "    </tr>\n",
       "    <tr>\n",
       "      <th>10</th>\n",
       "      <td>249.1700</td>\n",
       "      <td>246.7750</td>\n",
       "      <td>7104791.0</td>\n",
       "      <td>248.93</td>\n",
       "      <td>247.63</td>\n",
       "      <td>1579150800</td>\n",
       "    </tr>\n",
       "    <tr>\n",
       "      <th>11</th>\n",
       "      <td>250.0000</td>\n",
       "      <td>247.3700</td>\n",
       "      <td>6344766.0</td>\n",
       "      <td>249.28</td>\n",
       "      <td>249.72</td>\n",
       "      <td>1579237200</td>\n",
       "    </tr>\n",
       "    <tr>\n",
       "      <th>12</th>\n",
       "      <td>249.2900</td>\n",
       "      <td>246.5703</td>\n",
       "      <td>5447938.0</td>\n",
       "      <td>247.94</td>\n",
       "      <td>247.68</td>\n",
       "      <td>1579582800</td>\n",
       "    </tr>\n",
       "    <tr>\n",
       "      <th>13</th>\n",
       "      <td>253.5900</td>\n",
       "      <td>249.0000</td>\n",
       "      <td>5980976.0</td>\n",
       "      <td>250.05</td>\n",
       "      <td>249.76</td>\n",
       "      <td>1579669200</td>\n",
       "    </tr>\n",
       "    <tr>\n",
       "      <th>14</th>\n",
       "      <td>253.2000</td>\n",
       "      <td>248.1500</td>\n",
       "      <td>6113790.0</td>\n",
       "      <td>252.86</td>\n",
       "      <td>251.88</td>\n",
       "      <td>1579755600</td>\n",
       "    </tr>\n",
       "    <tr>\n",
       "      <th>15</th>\n",
       "      <td>259.5000</td>\n",
       "      <td>248.3000</td>\n",
       "      <td>9337839.0</td>\n",
       "      <td>250.48</td>\n",
       "      <td>257.87</td>\n",
       "      <td>1579842000</td>\n",
       "    </tr>\n",
       "    <tr>\n",
       "      <th>16</th>\n",
       "      <td>242.2500</td>\n",
       "      <td>232.2300</td>\n",
       "      <td>11764241.0</td>\n",
       "      <td>240.20</td>\n",
       "      <td>239.00</td>\n",
       "      <td>1580101200</td>\n",
       "    </tr>\n",
       "    <tr>\n",
       "      <th>17</th>\n",
       "      <td>249.2700</td>\n",
       "      <td>240.7143</td>\n",
       "      <td>7774401.0</td>\n",
       "      <td>247.97</td>\n",
       "      <td>242.85</td>\n",
       "      <td>1580187600</td>\n",
       "    </tr>\n",
       "    <tr>\n",
       "      <th>18</th>\n",
       "      <td>248.8400</td>\n",
       "      <td>243.9400</td>\n",
       "      <td>6486300.0</td>\n",
       "      <td>245.54</td>\n",
       "      <td>247.28</td>\n",
       "      <td>1580274000</td>\n",
       "    </tr>\n",
       "    <tr>\n",
       "      <th>19</th>\n",
       "      <td>246.3500</td>\n",
       "      <td>239.4000</td>\n",
       "      <td>7262590.0</td>\n",
       "      <td>245.81</td>\n",
       "      <td>241.67</td>\n",
       "      <td>1580360400</td>\n",
       "    </tr>\n",
       "    <tr>\n",
       "      <th>20</th>\n",
       "      <td>244.4500</td>\n",
       "      <td>234.7500</td>\n",
       "      <td>9260493.0</td>\n",
       "      <td>236.43</td>\n",
       "      <td>243.97</td>\n",
       "      <td>1580446800</td>\n",
       "    </tr>\n",
       "  </tbody>\n",
       "</table>\n",
       "</div>"
      ],
      "text/plain": [
       "        high       low      volume   close    open        time\n",
       "0   239.9100  236.7200   5948415.0  239.91  238.85  1577941200\n",
       "1   237.8300  234.1000   5145208.0  236.07  235.00  1578027600\n",
       "2   237.2700  231.2700   6603313.0  237.06  232.36  1578286800\n",
       "3   241.7700  236.3900   7980144.0  239.93  238.20  1578373200\n",
       "4   242.0400  238.1490   6931017.0  240.38  239.76  1578459600\n",
       "5   245.9297  240.8550   6386105.0  243.02  243.55  1578546000\n",
       "6   248.5500  243.7500   7911735.0  244.32  247.48  1578632400\n",
       "7   252.9884  246.7500   8008491.0  251.98  247.66  1578891600\n",
       "8   251.2800  246.7500   8989483.0  247.28  250.51  1578978000\n",
       "9   248.6891  244.5300   6578446.0  245.57  247.79  1579064400\n",
       "10  249.1700  246.7750   7104791.0  248.93  247.63  1579150800\n",
       "11  250.0000  247.3700   6344766.0  249.28  249.72  1579237200\n",
       "12  249.2900  246.5703   5447938.0  247.94  247.68  1579582800\n",
       "13  253.5900  249.0000   5980976.0  250.05  249.76  1579669200\n",
       "14  253.2000  248.1500   6113790.0  252.86  251.88  1579755600\n",
       "15  259.5000  248.3000   9337839.0  250.48  257.87  1579842000\n",
       "16  242.2500  232.2300  11764241.0  240.20  239.00  1580101200\n",
       "17  249.2700  240.7143   7774401.0  247.97  242.85  1580187600\n",
       "18  248.8400  243.9400   6486300.0  245.54  247.28  1580274000\n",
       "19  246.3500  239.4000   7262590.0  245.81  241.67  1580360400\n",
       "20  244.4500  234.7500   9260493.0  236.43  243.97  1580446800"
      ]
     },
     "execution_count": 6,
     "metadata": {},
     "output_type": "execute_result"
    }
   ],
   "source": [
    " # get NVDA data between January 1st and February 4th of 2020\n",
    "a.interface.history('NVDA', start_date='2020-01-01', end_date='2020-02-04')"
   ]
  },
  {
   "cell_type": "markdown",
   "id": "6a3caead",
   "metadata": {},
   "source": [
    "## Using Indicators\n",
    "\n",
    "Like we said earlier, let's take the data that we gathered and pass them through a moving average calculation. Here we'll get the past 500 daily OHLC points to calculate a 50-day SMA"
   ]
  },
  {
   "cell_type": "code",
   "execution_count": 7,
   "id": "42bf52b4",
   "metadata": {},
   "outputs": [],
   "source": [
    "nvda = a.interface.history('NVDA', 500, resolution='1d')"
   ]
  },
  {
   "cell_type": "code",
   "execution_count": 8,
   "id": "15631bcf",
   "metadata": {},
   "outputs": [
    {
     "data": {
      "text/plain": [
       "0      254.130636\n",
       "1      253.512436\n",
       "2      253.615236\n",
       "3      253.485236\n",
       "4      253.684236\n",
       "          ...    \n",
       "446    290.055346\n",
       "447    291.514146\n",
       "448    292.976746\n",
       "449    294.464546\n",
       "450    295.779746\n",
       "Length: 451, dtype: float64"
      ]
     },
     "execution_count": 8,
     "metadata": {},
     "output_type": "execute_result"
    }
   ],
   "source": [
    "sma50 = sma(nvda['close'], 50)\n",
    "sma50"
   ]
  },
  {
   "cell_type": "code",
   "execution_count": 9,
   "id": "d77e56f2",
   "metadata": {},
   "outputs": [
    {
     "data": {
      "text/plain": [
       "<AxesSubplot:>"
      ]
     },
     "execution_count": 9,
     "metadata": {},
     "output_type": "execute_result"
    },
    {
     "data": {
      "image/png": "[encoded data removed]",
      "text/plain": [
       "<Figure size 432x288 with 1 Axes>"
      ]
     },
     "metadata": {
      "needs_background": "light"
     },
     "output_type": "display_data"
    }
   ],
   "source": [
    "nvda['close'].plot()"
   ]
  },
  {
   "cell_type": "code",
   "execution_count": 10,
   "id": "6a4ccc51",
   "metadata": {
    "scrolled": true
   },
   "outputs": [
    {
     "data": {
      "text/plain": [
       "<AxesSubplot:>"
      ]
     },
     "execution_count": 10,
     "metadata": {},
     "output_type": "execute_result"
    },
    {
     "data": {
      "image/png": "[encoded data removed]",
      "text/plain": [
       "<Figure size 432x288 with 1 Axes>"
      ]
     },
     "metadata": {
      "needs_background": "light"
     },
     "output_type": "display_data"
    }
   ],
   "source": [
    "sma50.plot()"
   ]
  },
  {
   "cell_type": "code",
   "execution_count": 11,
   "id": "58de81dc",
   "metadata": {},
   "outputs": [
    {
     "data": {
      "text/plain": [
       "0      275.201348\n",
       "1      276.277648\n",
       "2      277.341148\n",
       "3      278.386548\n",
       "4      279.436448\n",
       "          ...    \n",
       "396    251.740857\n",
       "397    252.670157\n",
       "398    253.618357\n",
       "399    254.660957\n",
       "400    255.600657\n",
       "Length: 401, dtype: float64"
      ]
     },
     "execution_count": 11,
     "metadata": {},
     "output_type": "execute_result"
    }
   ],
   "source": [
    "sma100 = sma(nvda['close'], 100)\n",
    "sma100"
   ]
  },
  {
   "cell_type": "code",
   "execution_count": 12,
   "id": "0871baeb",
   "metadata": {},
   "outputs": [
    {
     "data": {
      "text/plain": [
       "<AxesSubplot:>"
      ]
     },
     "execution_count": 12,
     "metadata": {},
     "output_type": "execute_result"
    },
    {
     "data": {
      "image/png": "[encoded data removed]",
      "text/plain": [
       "<Figure size 432x288 with 1 Axes>"
      ]
     },
     "metadata": {
      "needs_background": "light"
     },
     "output_type": "display_data"
    }
   ],
   "source": [
    "sma100.plot()"
   ]
  },
  {
   "cell_type": "markdown",
   "id": "aae3394b",
   "metadata": {},
   "source": [
    "Nice! Now we have everything that we need to start making our golden cross and you can see that the results have smoothened out our price data"
   ]
  },
  {
   "cell_type": "markdown",
   "id": "f7592c05",
   "metadata": {},
   "source": [
    "## The Strategy Framework"
   ]
  },
  {
   "cell_type": "code",
   "execution_count": 13,
   "id": "02e3bda6",
   "metadata": {},
   "outputs": [],
   "source": [
    "def init(symbol, state: StrategyState):\n",
    "    # run on a new price event to initialize variables\n",
    "    pass\n",
    "\n",
    "\n",
    "def price_event(price, symbol, state: StrategyState):\n",
    "    # we'll come back to this soon\n",
    "    pass\n",
    "\n",
    "\n",
    "s = Strategy(a) # we're passing in our alpaca exchange we defined earlier\n",
    "s.add_price_event(price_event, 'NVDA', resolution='1d', init=init)"
   ]
  },
  {
   "cell_type": "markdown",
   "id": "6de97639",
   "metadata": {},
   "source": [
    "### `init` Function \n",
    "\n",
    "This is the function where we initialize our state variables and grab any data we need. In the case of a golden cross. We need to make sure we have enough data to actually calculate an SMA "
   ]
  },
  {
   "cell_type": "code",
   "execution_count": 14,
   "id": "24eb357b",
   "metadata": {},
   "outputs": [],
   "source": [
    "def init(symbol, state: StrategyState):\n",
    "    interface: Interface = state.interface\n",
    "    resolution: float = state.resolution\n",
    "    variables = state.variables\n",
    "    # initialize the historical data as a deque to save memory and effiency\n",
    "    variables['history'] = interface.history(symbol, 800, resolution, return_as='deque')['close']\n",
    "    variables['has_bought'] = False"
   ]
  },
  {
   "cell_type": "markdown",
   "id": "2880af0e",
   "metadata": {},
   "source": [
    "Now this will run everytime our strategy starts to gather the data that we need so we're not doing expensive operations during our price event"
   ]
  },
  {
   "cell_type": "markdown",
   "id": "17b2f400",
   "metadata": {},
   "source": [
    "## Creating Our Price Event\n",
    "\n",
    "Every Blankly Bot has a price event structure where a price event is defined and then run at a specific time, let's take a look at this"
   ]
  },
  {
   "cell_type": "code",
   "execution_count": 15,
   "id": "ee1a4e91",
   "metadata": {},
   "outputs": [],
   "source": [
    "def golden_cross(price, symbol, state: StrategyState):\n",
    "    interface: Interface = state.interface\n",
    "    variables = state.variables\n",
    "\n",
    "    variables['history'].append(price)\n",
    "\n",
    "    sma100 = sma(variables['history'], period=20)\n",
    "    \n",
    "    # match up dimensions so that we can use numpy for difference\n",
    "    sma50 = sma(variables['history'], period=10)[-len(sma100):]\n",
    "    diff = sma100 - sma50\n",
    "    \n",
    "    slope_sma50 = (sma50[-1] - sma50[-5]) / 5 # get the slope of the last 5 SMA50 Data Points\n",
    "    prev_diff = diff[-2]\n",
    "    curr_diff = diff[-1]\n",
    "    \n",
    "    is_cross_up = slope_sma50 > 0 and curr_diff >= 0 and prev_diff < 0\n",
    "    is_cross_down = slope_sma50 < 0 and curr_diff <= 0 and prev_diff > 0\n",
    "    \n",
    "    # comparing prev diff with current diff will show a cross\n",
    "    if is_cross_up and not variables['has_bought']:\n",
    "        # determine how much we want to buy based on our cash allocation\n",
    "        interface.market_order(symbol, 'buy', int(interface.cash / price))\n",
    "        variables['has_bought'] = True\n",
    "    elif is_cross_down and variables['has_bought']:\n",
    "        # use strategy.base_asset if on CoinbasePro or Binance\n",
    "        # truncate here to fix any floating point errors\n",
    "        interface.market_order(symbol, 'sell', int(interface.account[symbol].available))\n",
    "        variables['has_bought'] = False"
   ]
  },
  {
   "cell_type": "markdown",
   "id": "6639b498",
   "metadata": {},
   "source": [
    "Nice, now we have all the components that we can easily plug together to form a strategy"
   ]
  },
  {
   "cell_type": "markdown",
   "id": "01160ca8",
   "metadata": {},
   "source": [
    "## Create Strategy\n",
    "\n",
    "To create a strategy, we simply just add the price event"
   ]
  },
  {
   "cell_type": "code",
   "execution_count": 16,
   "id": "8136c223",
   "metadata": {},
   "outputs": [],
   "source": [
    "s = Strategy(a)\n",
    "s.add_price_event(golden_cross, 'MSFT', resolution='1d', init=init)"
   ]
  },
  {
   "cell_type": "markdown",
   "id": "6d80e32b",
   "metadata": {},
   "source": [
    "## Run a Backtest\n",
    "\n",
    "Now let's run the backtest for this strategy. We'll start out with $10,000 and backtest over 2 years of time "
   ]
  },
  {
   "cell_type": "code",
   "execution_count": 17,
   "id": "a428f2f6",
   "metadata": {},
   "outputs": [
    {
     "name": "stdout",
     "output_type": "stream",
     "text": [
      "\n",
      "Initializing...\n",
      "\n",
      "Backtesting...\n",
      "Progress: [##########] 99.21% "
     ]
    },
    {
     "data": {
      "text/html": [
       "\n",
       "\n",
       "\n",
       "\n",
       "\n",
       "\n",
       "  <div class=\"bk-root\" id=\"c59eaf75-58d3-417e-a523-b2eacdd44db8\" data-root-id=\"1229\"></div>\n"
      ]
     },
     "metadata": {},
     "output_type": "display_data"
    },
    {
     "data": {
      "application/javascript": [
       "(function(root) {\n",
       "  function embed_document(root) {\n",
       "    \n",
       "  const docs_json = {\"8e48017e-9c8c-4e6c-8624-1a252bbfc409\":{\"defs\":[],\"roots\":{\"references\":[{\"attributes\":{\"children\":[{\"id\":\"1004\"},{\"id\":\"1068\"},{\"id\":\"1132\"}]},\"id\":\"1229\",\"type\":\"Column\"},{\"attributes\":{\"line_color\":\"#ff7f0e\",\"line_width\":2,\"mode\":\"after\",\"x\":{\"field\":\"time\"},\"y\":{\"field\":\"value\"}},\"id\":\"1101\",\"type\":\"Step\"},{\"attributes\":{\"mantissas\":[1,2,5],\"max_interval\":500.0,\"num_minor_ticks\":0},\"id\":\"1117\",\"type\":\"AdaptiveTicker\"},{\"attributes\":{\"base\":60,\"mantissas\":[1,2,5,10,15,20,30],\"max_interval\":1800000.0,\"min_interval\":1000.0,\"num_minor_ticks\":0},\"id\":\"1118\",\"type\":\"AdaptiveTicker\"},{\"attributes\":{\"base\":24,\"mantissas\":[1,2,4,6,8,12],\"max_interval\":43200000.0,\"min_interval\":3600000.0,\"num_minor_ticks\":0},\"id\":\"1119\",\"type\":\"AdaptiveTicker\"},{\"attributes\":{\"line_alpha\":0.2,\"line_color\":\"#ff7f0e\",\"line_width\":2,\"mode\":\"after\",\"x\":{\"field\":\"time\"},\"y\":{\"field\":\"value\"}},\"id\":\"1103\",\"type\":\"Step\"},{\"attributes\":{},\"id\":\"1128\",\"type\":\"YearsTicker\"},{\"attributes\":{\"months\":[0,1,2,3,4,5,6,7,8,9,10,11]},\"id\":\"1124\",\"type\":\"MonthsTicker\"},{\"attributes\":{\"coordinates\":null,\"group\":null},\"id\":\"1106\",\"type\":\"Title\"},{\"attributes\":{\"days\":[1,15]},\"id\":\"1123\",\"type\":\"DaysTicker\"},{\"attributes\":{\"line_alpha\":0.1,\"line_color\":\"#ff7f0e\",\"line_width\":2,\"mode\":\"after\",\"x\":{\"field\":\"time\"},\"y\":{\"field\":\"value\"}},\"id\":\"1102\",\"type\":\"Step\"},{\"attributes\":{\"days\":[1,2,3,4,5,6,7,8,9,10,11,12,13,14,15,16,17,18,19,20,21,22,23,24,25,26,27,28,29,30,31]},\"id\":\"1120\",\"type\":\"DaysTicker\"},{\"attributes\":{\"coordinates\":null,\"data_source\":{\"id\":\"1099\"},\"glyph\":{\"id\":\"1101\"},\"group\":null,\"hover_glyph\":null,\"muted_glyph\":{\"id\":\"1103\"},\"nonselection_glyph\":{\"id\":\"1102\"},\"view\":{\"id\":\"1105\"}},\"id\":\"1104\",\"type\":\"GlyphRenderer\"},{\"attributes\":{\"days\":[1,4,7,10,13,16,19,22,25,28]},\"id\":\"1121\",\"type\":\"DaysTicker\"},{\"attributes\":{\"days\":[1,8,15,22]},\"id\":\"1122\",\"type\":\"DaysTicker\"},{\"attributes\":{\"months\":[0,6]},\"id\":\"1127\",\"type\":\"MonthsTicker\"},{\"attributes\":{\"coordinates\":null,\"group\":null,\"items\":[{\"id\":\"1130\"}],\"location\":\"top_left\",\"title\":\"MSFT\",\"title_text_font_size\":\"20px\",\"title_text_font_style\":\"bold\"},\"id\":\"1129\",\"type\":\"Legend\"},{\"attributes\":{\"months\":[0,2,4,6,8,10]},\"id\":\"1125\",\"type\":\"MonthsTicker\"},{\"attributes\":{\"source\":{\"id\":\"1099\"}},\"id\":\"1105\",\"type\":\"CDSView\"},{\"attributes\":{\"months\":[0,4,8]},\"id\":\"1126\",\"type\":\"MonthsTicker\"},{\"attributes\":{\"label\":{\"value\":\"MSFT\"},\"renderers\":[{\"id\":\"1104\"}]},\"id\":\"1130\",\"type\":\"LegendItem\"},{\"attributes\":{\"callback\":null,\"mode\":\"vline\",\"tooltips\":[[\"value\",\"@value\"]]},\"id\":\"1003\",\"type\":\"HoverTool\"},{\"attributes\":{},\"id\":\"1152\",\"type\":\"SaveTool\"},{\"attributes\":{},\"id\":\"1153\",\"type\":\"ResetTool\"},{\"attributes\":{},\"id\":\"1109\",\"type\":\"BasicTickFormatter\"},{\"attributes\":{},\"id\":\"1110\",\"type\":\"AllLabels\"},{\"attributes\":{},\"id\":\"1112\",\"type\":\"DatetimeTickFormatter\"},{\"attributes\":{},\"id\":\"1113\",\"type\":\"AllLabels\"},{\"attributes\":{},\"id\":\"1114\",\"type\":\"UnionRenderers\"},{\"attributes\":{},\"id\":\"1115\",\"type\":\"Selection\"},{\"attributes\":{\"below\":[{\"id\":\"1013\"}],\"center\":[{\"id\":\"1016\"},{\"id\":\"1020\"},{\"id\":\"1065\"}],\"height\":200,\"left\":[{\"id\":\"1017\"}],\"renderers\":[{\"id\":\"1040\"}],\"title\":{\"id\":\"1042\"},\"toolbar\":{\"id\":\"1028\"},\"width\":900,\"x_range\":{\"id\":\"1005\"},\"x_scale\":{\"id\":\"1009\"},\"y_range\":{\"id\":\"1007\"},\"y_scale\":{\"id\":\"1011\"}},\"id\":\"1004\",\"subtype\":\"Figure\",\"type\":\"Plot\"},{\"attributes\":{\"below\":[{\"id\":\"1141\"}],\"center\":[{\"id\":\"1144\"},{\"id\":\"1148\"},{\"id\":\"1193\"}],\"height\":200,\"left\":[{\"id\":\"1145\"}],\"renderers\":[{\"id\":\"1168\"},{\"id\":\"1200\"}],\"title\":{\"id\":\"1170\"},\"toolbar\":{\"id\":\"1156\"},\"width\":900,\"x_range\":{\"id\":\"1005\"},\"x_scale\":{\"id\":\"1137\"},\"y_range\":{\"id\":\"1135\"},\"y_scale\":{\"id\":\"1139\"}},\"id\":\"1132\",\"subtype\":\"Figure\",\"type\":\"Plot\"},{\"attributes\":{},\"id\":\"1137\",\"type\":\"LinearScale\"},{\"attributes\":{},\"id\":\"1007\",\"type\":\"DataRange1d\"},{\"attributes\":{\"num_minor_ticks\":5,\"tickers\":[{\"id\":\"1181\"},{\"id\":\"1182\"},{\"id\":\"1183\"},{\"id\":\"1184\"},{\"id\":\"1185\"},{\"id\":\"1186\"},{\"id\":\"1187\"},{\"id\":\"1188\"},{\"id\":\"1189\"},{\"id\":\"1190\"},{\"id\":\"1191\"},{\"id\":\"1192\"}]},\"id\":\"1142\",\"type\":\"DatetimeTicker\"},{\"attributes\":{},\"id\":\"1005\",\"type\":\"DataRange1d\"},{\"attributes\":{},\"id\":\"1011\",\"type\":\"LinearScale\"},{\"attributes\":{\"coordinates\":null,\"formatter\":{\"id\":\"1048\"},\"group\":null,\"major_label_policy\":{\"id\":\"1049\"},\"ticker\":{\"id\":\"1014\"}},\"id\":\"1013\",\"type\":\"DatetimeAxis\"},{\"attributes\":{},\"id\":\"1135\",\"type\":\"DataRange1d\"},{\"attributes\":{},\"id\":\"1009\",\"type\":\"LinearScale\"},{\"attributes\":{\"num_minor_ticks\":5,\"tickers\":[{\"id\":\"1053\"},{\"id\":\"1054\"},{\"id\":\"1055\"},{\"id\":\"1056\"},{\"id\":\"1057\"},{\"id\":\"1058\"},{\"id\":\"1059\"},{\"id\":\"1060\"},{\"id\":\"1061\"},{\"id\":\"1062\"},{\"id\":\"1063\"},{\"id\":\"1064\"}]},\"id\":\"1014\",\"type\":\"DatetimeTicker\"},{\"attributes\":{\"coordinates\":null,\"formatter\":{\"id\":\"1176\"},\"group\":null,\"major_label_policy\":{\"id\":\"1177\"},\"ticker\":{\"id\":\"1142\"}},\"id\":\"1141\",\"type\":\"DatetimeAxis\"},{\"attributes\":{},\"id\":\"1139\",\"type\":\"LinearScale\"},{\"attributes\":{\"axis\":{\"id\":\"1013\"},\"coordinates\":null,\"group\":null,\"ticker\":null},\"id\":\"1016\",\"type\":\"Grid\"},{\"attributes\":{\"coordinates\":null,\"formatter\":{\"id\":\"1045\"},\"group\":null,\"major_label_policy\":{\"id\":\"1046\"},\"ticker\":{\"id\":\"1018\"}},\"id\":\"1017\",\"type\":\"LinearAxis\"},{\"attributes\":{\"axis\":{\"id\":\"1141\"},\"coordinates\":null,\"group\":null,\"ticker\":null},\"id\":\"1144\",\"type\":\"Grid\"},{\"attributes\":{\"axis\":{\"id\":\"1017\"},\"coordinates\":null,\"dimension\":1,\"group\":null,\"ticker\":null},\"id\":\"1020\",\"type\":\"Grid\"},{\"attributes\":{},\"id\":\"1173\",\"type\":\"BasicTickFormatter\"},{\"attributes\":{},\"id\":\"1026\",\"type\":\"HelpTool\"},{\"attributes\":{},\"id\":\"1045\",\"type\":\"BasicTickFormatter\"},{\"attributes\":{\"coordinates\":null,\"formatter\":{\"id\":\"1173\"},\"group\":null,\"major_label_policy\":{\"id\":\"1174\"},\"ticker\":{\"id\":\"1146\"}},\"id\":\"1145\",\"type\":\"LinearAxis\"},{\"attributes\":{},\"id\":\"1018\",\"type\":\"BasicTicker\"},{\"attributes\":{},\"id\":\"1174\",\"type\":\"AllLabels\"},{\"attributes\":{\"data\":{\"time\":[1578441600000.0,1578441600000.0,1578528000000.0,1578614400000.0,1578700800000.0,1578787200000.0,1578873600000.0,1578960000000.0,1579046400000.0,1579132800000.0,1579219200000.0,1579305600000.0,1579392000000.0,1579478400000.0,1579564800000.0,1579651200000.0,1579737600000.0,1579824000000.0,1579910400000.0,1579996800000.0,1580083200000.0,1580169600000.0,1580256000000.0,1580342400000.0,1580428800000.0,1580515200000.0,1580601600000.0,1580688000000.0,1580774400000.0,1580860800000.0,1580947200000.0,1581033600000.0,1581120000000.0,1581206400000.0,1581292800000.0,1581379200000.0,1581465600000.0,1581552000000.0,1581638400000.0,1581724800000.0,1581811200000.0,1581897600000.0,1581984000000.0,1582070400000.0,1582156800000.0,1582243200000.0,1582329600000.0,1582416000000.0,1582502400000.0,1582588800000.0,1582675200000.0,1582761600000.0,1582848000000.0,1582934400000.0,1583020800000.0,1583107200000.0,1583193600000.0,1583280000000.0,1583366400000.0,1583452800000.0,1583539200000.0,1583625600000.0,1583715600000.0,1583802000000.0,1583888400000.0,1583974800000.0,1584061200000.0,1584147600000.0,1584234000000.0,1584320400000.0,1584406800000.0,1584493200000.0,1584579600000.0,1584666000000.0,1584752400000.0,1584838800000.0,1584925200000.0,1585011600000.0,1585098000000.0,1585184400000.0,1585270800000.0,1585357200000.0,1585443600000.0,1585530000000.0,1585616400000.0,1585702800000.0,1585789200000.0,1585875600000.0,1585962000000.0,1586048400000.0,1586134800000.0,1586221200000.0,1586307600000.0,1586394000000.0,1586480400000.0,1586566800000.0,1586653200000.0,1586739600000.0,1586826000000.0,1586912400000.0,1586998800000.0,1587085200000.0,1587171600000.0,1587258000000.0,1587344400000.0,1587430800000.0,1587517200000.0,1587603600000.0,1587690000000.0,1587776400000.0,1587862800000.0,1587949200000.0,1588035600000.0,1588122000000.0,1588208400000.0,1588294800000.0,1588381200000.0,1588467600000.0,1588554000000.0,1588640400000.0,1588726800000.0,1588813200000.0,1588899600000.0,1588986000000.0,1589072400000.0,1589158800000.0,1589245200000.0,1589331600000.0,1589418000000.0,1589504400000.0,1589590800000.0,1589677200000.0,1589763600000.0,1589850000000.0,1589936400000.0,1590022800000.0,1590109200000.0,1590195600000.0,1590282000000.0,1590368400000.0,1590454800000.0,1590541200000.0,1590627600000.0,1590714000000.0,1590800400000.0,1590886800000.0,1590973200000.0,1591059600000.0,1591146000000.0,1591232400000.0,1591318800000.0,1591405200000.0,1591491600000.0,1591578000000.0,1591664400000.0,1591750800000.0,1591837200000.0,1591923600000.0,1592010000000.0,1592096400000.0,1592182800000.0,1592269200000.0,1592355600000.0,1592442000000.0,1592528400000.0,1592614800000.0,1592701200000.0,1592787600000.0,1592874000000.0,1592960400000.0,1593046800000.0,1593133200000.0,1593219600000.0,1593306000000.0,1593392400000.0,1593478800000.0,1593565200000.0,1593651600000.0,1593738000000.0,1593824400000.0,1593910800000.0,1593997200000.0,1594083600000.0,1594170000000.0,1594256400000.0,1594342800000.0,1594429200000.0,1594515600000.0,1594602000000.0,1594688400000.0,1594774800000.0,1594861200000.0,1594947600000.0,1595034000000.0,1595120400000.0,1595206800000.0,1595293200000.0,1595379600000.0,1595466000000.0,1595552400000.0,1595638800000.0,1595725200000.0,1595811600000.0,1595898000000.0,1595984400000.0,1596070800000.0,1596157200000.0,1596243600000.0,1596330000000.0,1596416400000.0,1596502800000.0,1596589200000.0,1596675600000.0,1596762000000.0,1596848400000.0,1596934800000.0,1597021200000.0,1597107600000.0,1597194000000.0,1597280400000.0,1597366800000.0,1597453200000.0,1597539600000.0,1597626000000.0,1597712400000.0,1597798800000.0,1597885200000.0,1597971600000.0,1598058000000.0,1598144400000.0,1598230800000.0,1598317200000.0,1598403600000.0,1598490000000.0,1598576400000.0,1598662800000.0,1598749200000.0,1598835600000.0,1598922000000.0,1599008400000.0,1599094800000.0,1599181200000.0,1599267600000.0,1599354000000.0,1599440400000.0,1599526800000.0,1599613200000.0,1599699600000.0,1599786000000.0,1599872400000.0,1599958800000.0,1600045200000.0,1600131600000.0,1600218000000.0,1600304400000.0,1600390800000.0,1600477200000.0,1600563600000.0,1600650000000.0,1600736400000.0,1600822800000.0,1600909200000.0,1600995600000.0,1601082000000.0,1601168400000.0,1601254800000.0,1601341200000.0,1601427600000.0,1601514000000.0,1601600400000.0,1601686800000.0,1601773200000.0,1601859600000.0,1601946000000.0,1602032400000.0,1602118800000.0,1602205200000.0,1602291600000.0,1602378000000.0,1602464400000.0,1602550800000.0,1602637200000.0,1602723600000.0,1602810000000.0,1602896400000.0,1602982800000.0,1603069200000.0,1603155600000.0,1603242000000.0,1603328400000.0,1603414800000.0,1603501200000.0,1603587600000.0,1603674000000.0,1603760400000.0,1603846800000.0,1603933200000.0,1604019600000.0,1604106000000.0,1604192400000.0,1604275200000.0,1604361600000.0,1604448000000.0,1604534400000.0,1604620800000.0,1604707200000.0,1604793600000.0,1604880000000.0,1604966400000.0,1605052800000.0,1605139200000.0,1605225600000.0,1605312000000.0,1605398400000.0,1605484800000.0,1605571200000.0,1605657600000.0,1605744000000.0,1605830400000.0,1605916800000.0,1606003200000.0,1606089600000.0,1606176000000.0,1606262400000.0,1606348800000.0,1606435200000.0,1606521600000.0,1606608000000.0,1606694400000.0,1606780800000.0,1606867200000.0,1606953600000.0,1607040000000.0,1607126400000.0,1607212800000.0,1607299200000.0,1607385600000.0,1607472000000.0,1607558400000.0,1607644800000.0,1607731200000.0,1607817600000.0,1607904000000.0,1607990400000.0,1608076800000.0,1608163200000.0,1608249600000.0,1608336000000.0,1608422400000.0,1608508800000.0,1608595200000.0,1608681600000.0,1608768000000.0,1608854400000.0,1608940800000.0,1609027200000.0,1609113600000.0,1609200000000.0,1609286400000.0,1609372800000.0,1609459200000.0,1609545600000.0,1609632000000.0,1609718400000.0,1609804800000.0,1609891200000.0,1609977600000.0,1610064000000.0,1610150400000.0,1610236800000.0,1610323200000.0,1610409600000.0,1610496000000.0,1610582400000.0,1610668800000.0,1610755200000.0,1610841600000.0,1610928000000.0,1611014400000.0,1611100800000.0,1611187200000.0,1611273600000.0,1611360000000.0,1611446400000.0,1611532800000.0,1611619200000.0,1611705600000.0,1611792000000.0,1611878400000.0,1611964800000.0,1612051200000.0,1612137600000.0,1612224000000.0,1612310400000.0,1612396800000.0,1612483200000.0,1612569600000.0,1612656000000.0,1612742400000.0,1612828800000.0,1612915200000.0,1613001600000.0,1613088000000.0,1613174400000.0,1613260800000.0,1613347200000.0,1613433600000.0,1613520000000.0,1613606400000.0,1613692800000.0,1613779200000.0,1613865600000.0,1613952000000.0,1614038400000.0,1614124800000.0,1614211200000.0,1614297600000.0,1614384000000.0,1614470400000.0,1614556800000.0,1614643200000.0,1614729600000.0,1614816000000.0,1614902400000.0,1614988800000.0,1615075200000.0,1615161600000.0,1615248000000.0,1615334400000.0,1615420800000.0,1615507200000.0,1615593600000.0,1615680000000.0,1615770000000.0,1615856400000.0,1615942800000.0,1616029200000.0,1616115600000.0,1616202000000.0,1616288400000.0,1616374800000.0,1616461200000.0,1616547600000.0,1616634000000.0,1616720400000.0,1616806800000.0,1616893200000.0,1616979600000.0,1617066000000.0,1617152400000.0,1617238800000.0,1617325200000.0,1617411600000.0,1617498000000.0,1617584400000.0,1617670800000.0,1617757200000.0,1617843600000.0,1617930000000.0,1618016400000.0,1618102800000.0,1618189200000.0,1618275600000.0,1618362000000.0,1618448400000.0,1618534800000.0,1618621200000.0,1618707600000.0,1618794000000.0,1618880400000.0,1618966800000.0,1619053200000.0,1619139600000.0,1619226000000.0,1619312400000.0,1619398800000.0,1619485200000.0,1619571600000.0,1619658000000.0,1619744400000.0,1619830800000.0,1619917200000.0,1620003600000.0,1620090000000.0,1620176400000.0,1620262800000.0,1620349200000.0,1620435600000.0,1620522000000.0,1620608400000.0,1620694800000.0,1620781200000.0,1620867600000.0,1620954000000.0,1621040400000.0,1621126800000.0,1621213200000.0,1621299600000.0,1621386000000.0,1621472400000.0,1621558800000.0,1621645200000.0,1621731600000.0,1621818000000.0,1621904400000.0,1621990800000.0,1622077200000.0,1622163600000.0,1622250000000.0,1622336400000.0,1622422800000.0,1622509200000.0,1622595600000.0,1622682000000.0,1622768400000.0,1622854800000.0,1622941200000.0,1623027600000.0,1623114000000.0,1623200400000.0,1623286800000.0,1623373200000.0,1623459600000.0,1623546000000.0,1623632400000.0,1623718800000.0,1623805200000.0,1623891600000.0,1623978000000.0,1624064400000.0,1624150800000.0,1624237200000.0,1624323600000.0,1624410000000.0,1624496400000.0,1624582800000.0,1624669200000.0,1624755600000.0,1624842000000.0,1624928400000.0,1625014800000.0,1625101200000.0,1625187600000.0,1625274000000.0,1625360400000.0,1625446800000.0,1625533200000.0,1625619600000.0,1625706000000.0,1625792400000.0,1625878800000.0,1625965200000.0,1626051600000.0,1626138000000.0,1626224400000.0,1626310800000.0,1626397200000.0,1626483600000.0,1626570000000.0,1626656400000.0,1626742800000.0,1626829200000.0,1626915600000.0,1627002000000.0,1627088400000.0,1627174800000.0,1627261200000.0,1627347600000.0,1627434000000.0,1627520400000.0,1627606800000.0,1627693200000.0,1627779600000.0,1627866000000.0,1627952400000.0,1628038800000.0,1628125200000.0,1628211600000.0,1628298000000.0,1628384400000.0,1628470800000.0,1628557200000.0,1628643600000.0,1628730000000.0,1628816400000.0,1628902800000.0,1628989200000.0,1629075600000.0,1629162000000.0,1629248400000.0,1629334800000.0,1629421200000.0,1629507600000.0,1629594000000.0,1629680400000.0,1629766800000.0,1629853200000.0,1629939600000.0,1630026000000.0,1630112400000.0,1630198800000.0,1630285200000.0,1630371600000.0,1630458000000.0,1630544400000.0,1630630800000.0,1630717200000.0,1630803600000.0,1630890000000.0,1630976400000.0,1631062800000.0,1631149200000.0,1631235600000.0,1631322000000.0,1631408400000.0,1631494800000.0,1631581200000.0,1631667600000.0,1631754000000.0,1631840400000.0,1631926800000.0,1632013200000.0,1632099600000.0,1632186000000.0,1632272400000.0,1632358800000.0,1632445200000.0,1632531600000.0,1632618000000.0,1632704400000.0,1632790800000.0,1632877200000.0,1632963600000.0,1633050000000.0,1633136400000.0,1633222800000.0,1633309200000.0,1633395600000.0,1633482000000.0,1633568400000.0,1633654800000.0,1633741200000.0,1633827600000.0,1633914000000.0,1634000400000.0,1634086800000.0,1634173200000.0,1634259600000.0,1634346000000.0,1634432400000.0,1634518800000.0,1634605200000.0,1634691600000.0,1634778000000.0,1634864400000.0,1634950800000.0,1635037200000.0,1635123600000.0,1635210000000.0,1635296400000.0,1635382800000.0,1635469200000.0,1635555600000.0,1635642000000.0,1635728400000.0,1635814800000.0,1635901200000.0,1635987600000.0,1636074000000.0,1636160400000.0,1636246800000.0,1636329600000.0,1636416000000.0,1636502400000.0,1636588800000.0,1636675200000.0,1636761600000.0,1636848000000.0,1636934400000.0,1637020800000.0,1637107200000.0,1637193600000.0,1637280000000.0,1637366400000.0,1637452800000.0,1637539200000.0,1637625600000.0,1637712000000.0,1637798400000.0,1637884800000.0,1637971200000.0,1638057600000.0,1638144000000.0,1638230400000.0,1638316800000.0,1638403200000.0,1638489600000.0,1638576000000.0,1638662400000.0,1638748800000.0,1638835200000.0,1638921600000.0,1639008000000.0,1639094400000.0,1639180800000.0,1639267200000.0,1639353600000.0,1639440000000.0,1639526400000.0,1639612800000.0,1639699200000.0,1639785600000.0,1639872000000.0,1639958400000.0,1640044800000.0,1640131200000.0,1640217600000.0,1640304000000.0,1640390400000.0,1640476800000.0,1640563200000.0,1640649600000.0,1640736000000.0,1640822400000.0,1640908800000.0,1640995200000.0,1641081600000.0,1641168000000.0,1641254400000.0,1641340800000.0],\"value\":[10000.0,10000.0,10000.0,10000.0,10000.0,10000.0,10000.0,10000.0,10000.0,10000.0,10000.0,10000.0,10000.0,10000.0,10000.0,10000.0,10000.0,10000.0,10000.0,10000.0,10000.0,10000.0,10000.0,10000.0,10000.0,10000.0,10000.0,10000.0,10000.0,10000.0,10000.0,10000.0,10000.0,10000.0,10000.0,10000.0,10000.0,10000.0,10000.0,10000.0,10000.0,10000.0,10000.0,10000.0,10000.0,10000.0,10000.0,10000.0,10000.0,10000.0,10000.0,10000.0,10000.0,10000.0,10000.0,10000.0,10000.0,10000.0,10000.0,10000.0,10000.0,10000.0,10000.0,10000.0,10000.0,10000.0,10000.0,10000.0,10000.0,10000.0,10000.0,10000.0,10000.0,10000.0,10000.0,10000.0,10000.0,10000.0,10000.0,10000.0,10000.0,10000.0,10000.0,10000.0,10000.0,10000.0,10000.0,10000.0,10000.0,10000.0,10000.0,10000.0,10000.0,10000.0,10000.0,10000.0,10000.0,10000.0,10000.0,10000.0,10000.0,10000.0,10000.0,10000.0,10000.0,10000.0,10000.0,10000.0,10000.0,10000.0,10000.0,10000.0,10000.0,10000.0,10000.0,10000.0,10000.0,10000.0,10000.0,10000.0,10000.0,10000.0,10000.0,10000.0,10000.0,10000.0,10000.0,10000.0,10000.0,10000.0,10000.0,10000.0,10000.0,10000.0,10000.0,10000.0,10000.0,10000.0,14.0,14.0,14.0,14.0,14.0,14.0,14.0,14.0,14.0,14.0,14.0,14.0,14.0,14.0,14.0,14.0,14.0,14.0,14.0,14.0,14.0,14.0,14.0,14.0,14.0,14.0,14.0,14.0,14.0,14.0,14.0,14.0,14.0,14.0,14.0,14.0,14.0,14.0,14.0,14.0,14.0,14.0,14.0,14.0,14.0,14.0,14.0,14.0,14.0,14.0,14.0,14.0,14.0,14.0,14.0,14.0,14.0,14.0,14.0,14.0,14.0,14.0,14.0,14.0,14.0,14.0,14.0,14.0,14.0,14.0,14.0,14.0,14.0,14.0,14.0,14.0,14.0,14.0,14.0,14.0,14.0,14.0,14.0,14.0,14.0,14.0,14.0,14.0,14.0,14.0,14.0,14.0,14.0,14.0,14.0,14.0,14.0,14.0,14.0,14.0,14.0,14.0,14.0,14.0,14.0,14.0,14.0,14.0,14.0,14.0,14.0,14.0,14.0,14.0,14.0,14.0,14.0,14.0,14.0,14.0,14.0,14.0,14.0,14.0,14.0,14.0,14.0,14.0,14.0,14.0,14.0,14.0,14.0,14.0,14.0,14.0,14.0,14.0,14.0,14.0,14.0,14.0,14.0,14.0,14.0,14.0,14.0,14.0,14.0,14.0,14.0,14.0,14.0,14.0,14.0,14.0,14.0,14.0,14.0,14.0,14.0,14.0,14.0,14.0,14.0,14.0,14.0,14.0,14.0,14.0,14.0,14.0,14.0,14.0,14.0,14.0,14.0,14.0,14.0,14.0,14.0,14.0,14.0,14.0,14.0,14.0,14.0,14.0,14.0,14.0,14.0,14.0,14.0,14.0,14.0,14.0,14.0,14.0,14.0,14.0,14.0,14.0,14.0,14.0,14.0,14.0,14.0,14.0,14.0,14.0,14.0,14.0,14.0,14.0,14.0,14.0,14.0,14.0,14.0,14.0,14.0,14.0,14.0,14.0,14.0,14.0,14.0,14.0,14.0,14.0,14.0,14.0,14.0,14.0,14.0,14.0,14.0,14.0,14.0,14.0,14.0,14.0,14.0,14.0,14.0,14.0,14.0,14.0,14.0,14.0,14.0,14.0,14.0,14.0,14.0,14.0,14.0,14.0,14.0,14.0,14.0,14.0,14.0,14.0,14.0,14.0,14.0,14.0,14.0,14.0,14.0,14.0,14.0,14.0,14.0,14.0,14.0,14.0,14.0,14.0,14.0,14.0,14.0,14.0,14.0,14.0,14.0,14.0,14.0,14.0,14.0,14.0,14.0,14.0,14.0,14.0,14.0,14.0,14.0,14.0,14.0,14.0,14.0,14.0,14.0,14.0,14.0,14.0,14.0,14.0,14.0,14.0,14.0,14.0,14.0,14.0,14.0,14.0,14.0,14.0,14.0,14.0,14.0,14.0,14.0,14.0,14.0,14.0,14.0,14.0,14.0,14.0,14.0,14.0,14.0,14.0,14.0,14.0,14.0,14.0,14.0,14.0,14.0,14.0,14.0,14.0,14.0,14.0,14.0,14.0,14.0,14.0,14.0,14.0,14.0,14.0,14.0,14.0,14.0,14.0,14.0,14.0,14.0,14.0,14.0,14.0,14.0,14.0,14.0,14.0,14.0,14.0,14.0,14.0,14.0,14.0,14.0,14.0,14.0,14.0,14.0,14.0,14.0,14.0,14.0,14.0,14.0,14.0,14.0,14.0,14.0,14.0,14.0,14.0,14.0,14.0,14.0,14.0,14.0,14.0,14.0,14.0,14.0,14.0,14.0,14.0,14.0,14.0,14.0,14.0,14.0,14.0,14.0,14.0,14.0,14.0,14.0,14.0,14.0,14.0,14.0,14.0,14.0,14.0,14.0,14.0,14.0,14.0,14.0,14.0,14.0,14.0,14.0,14.0,14.0,14.0,14.0,14.0,14.0,14.0,14.0,14.0,14.0,14.0,14.0,14.0,14.0,14.0,14.0,14.0,14.0,14.0,14.0,14.0,14.0,14.0,14.0,14.0,14.0,14.0,14.0,14.0,14.0,14.0,14.0,14.0,14.0,14.0,14.0,14.0,14.0,14.0,14.0,14.0,14.0,14.0,14.0,14.0,14.0,14.0,14.0,14.0,14.0,14.0,14.0,14.0,14.0,14.0,14.0,14.0,14.0,14.0,14.0,14.0,14.0,14.0,14.0,14.0,14.0,14.0,14.0,14.0,14.0,14.0,14.0,14.0,14.0,14.0,14.0,14.0,14.0,14.0,14.0,14.0,14.0,14.0,14.0,14.0,14.0,14.0,14.0,14.0,14.0,14.0,14.0,14.0,14.0,14.0,14.0,14.0,14.0,14.0,14.0,14.0,14.0,14.0,14.0,14.0,14.0,14.0,14.0,14.0,14.0,14.0,14.0,14.0,14.0,14.0,14.0,14.0,14.0,14.0,14.0,14.0,14.0,14.0,14.0,14.0,14.0,14.0,14.0,14.0,14.0,14.0,14.0,14.0,14.0,14.0,14.0,14.0,14.0,14.0,14.0,14.0,14.0,14.0,14.0,14.0,14.0,14.0,14.0,14.0,14.0,14.0,14.0,14.0,14.0,14.0,14.0,14.0,14.0,14.0]},\"selected\":{\"id\":\"1051\"},\"selection_policy\":{\"id\":\"1050\"}},\"id\":\"1035\",\"type\":\"ColumnDataSource\"},{\"attributes\":{\"data\":{\"time\":[1578441600000.0,1578441600000.0,1578528000000.0,1578614400000.0,1578700800000.0,1578787200000.0,1578873600000.0,1578960000000.0,1579046400000.0,1579132800000.0,1579219200000.0,1579305600000.0,1579392000000.0,1579478400000.0,1579564800000.0,1579651200000.0,1579737600000.0,1579824000000.0,1579910400000.0,1579996800000.0,1580083200000.0,1580169600000.0,1580256000000.0,1580342400000.0,1580428800000.0,1580515200000.0,1580601600000.0,1580688000000.0,1580774400000.0,1580860800000.0,1580947200000.0,1581033600000.0,1581120000000.0,1581206400000.0,1581292800000.0,1581379200000.0,1581465600000.0,1581552000000.0,1581638400000.0,1581724800000.0,1581811200000.0,1581897600000.0,1581984000000.0,1582070400000.0,1582156800000.0,1582243200000.0,1582329600000.0,1582416000000.0,1582502400000.0,1582588800000.0,1582675200000.0,1582761600000.0,1582848000000.0,1582934400000.0,1583020800000.0,1583107200000.0,1583193600000.0,1583280000000.0,1583366400000.0,1583452800000.0,1583539200000.0,1583625600000.0,1583715600000.0,1583802000000.0,1583888400000.0,1583974800000.0,1584061200000.0,1584147600000.0,1584234000000.0,1584320400000.0,1584406800000.0,1584493200000.0,1584579600000.0,1584666000000.0,1584752400000.0,1584838800000.0,1584925200000.0,1585011600000.0,1585098000000.0,1585184400000.0,1585270800000.0,1585357200000.0,1585443600000.0,1585530000000.0,1585616400000.0,1585702800000.0,1585789200000.0,1585875600000.0,1585962000000.0,1586048400000.0,1586134800000.0,1586221200000.0,1586307600000.0,1586394000000.0,1586480400000.0,1586566800000.0,1586653200000.0,1586739600000.0,1586826000000.0,1586912400000.0,1586998800000.0,1587085200000.0,1587171600000.0,1587258000000.0,1587344400000.0,1587430800000.0,1587517200000.0,1587603600000.0,1587690000000.0,1587776400000.0,1587862800000.0,1587949200000.0,1588035600000.0,1588122000000.0,1588208400000.0,1588294800000.0,1588381200000.0,1588467600000.0,1588554000000.0,1588640400000.0,1588726800000.0,1588813200000.0,1588899600000.0,1588986000000.0,1589072400000.0,1589158800000.0,1589245200000.0,1589331600000.0,1589418000000.0,1589504400000.0,1589590800000.0,1589677200000.0,1589763600000.0,1589850000000.0,1589936400000.0,1590022800000.0,1590109200000.0,1590195600000.0,1590282000000.0,1590368400000.0,1590454800000.0,1590541200000.0,1590627600000.0,1590714000000.0,1590800400000.0,1590886800000.0,1590973200000.0,1591059600000.0,1591146000000.0,1591232400000.0,1591318800000.0,1591405200000.0,1591491600000.0,1591578000000.0,1591664400000.0,1591750800000.0,1591837200000.0,1591923600000.0,1592010000000.0,1592096400000.0,1592182800000.0,1592269200000.0,1592355600000.0,1592442000000.0,1592528400000.0,1592614800000.0,1592701200000.0,1592787600000.0,1592874000000.0,1592960400000.0,1593046800000.0,1593133200000.0,1593219600000.0,1593306000000.0,1593392400000.0,1593478800000.0,1593565200000.0,1593651600000.0,1593738000000.0,1593824400000.0,1593910800000.0,1593997200000.0,1594083600000.0,1594170000000.0,1594256400000.0,1594342800000.0,1594429200000.0,1594515600000.0,1594602000000.0,1594688400000.0,1594774800000.0,1594861200000.0,1594947600000.0,1595034000000.0,1595120400000.0,1595206800000.0,1595293200000.0,1595379600000.0,1595466000000.0,1595552400000.0,1595638800000.0,1595725200000.0,1595811600000.0,1595898000000.0,1595984400000.0,1596070800000.0,1596157200000.0,1596243600000.0,1596330000000.0,1596416400000.0,1596502800000.0,1596589200000.0,1596675600000.0,1596762000000.0,1596848400000.0,1596934800000.0,1597021200000.0,1597107600000.0,1597194000000.0,1597280400000.0,1597366800000.0,1597453200000.0,1597539600000.0,1597626000000.0,1597712400000.0,1597798800000.0,1597885200000.0,1597971600000.0,1598058000000.0,1598144400000.0,1598230800000.0,1598317200000.0,1598403600000.0,1598490000000.0,1598576400000.0,1598662800000.0,1598749200000.0,1598835600000.0,1598922000000.0,1599008400000.0,1599094800000.0,1599181200000.0,1599267600000.0,1599354000000.0,1599440400000.0,1599526800000.0,1599613200000.0,1599699600000.0,1599786000000.0,1599872400000.0,1599958800000.0,1600045200000.0,1600131600000.0,1600218000000.0,1600304400000.0,1600390800000.0,1600477200000.0,1600563600000.0,1600650000000.0,1600736400000.0,1600822800000.0,1600909200000.0,1600995600000.0,1601082000000.0,1601168400000.0,1601254800000.0,1601341200000.0,1601427600000.0,1601514000000.0,1601600400000.0,1601686800000.0,1601773200000.0,1601859600000.0,1601946000000.0,1602032400000.0,1602118800000.0,1602205200000.0,1602291600000.0,1602378000000.0,1602464400000.0,1602550800000.0,1602637200000.0,1602723600000.0,1602810000000.0,1602896400000.0,1602982800000.0,1603069200000.0,1603155600000.0,1603242000000.0,1603328400000.0,1603414800000.0,1603501200000.0,1603587600000.0,1603674000000.0,1603760400000.0,1603846800000.0,1603933200000.0,1604019600000.0,1604106000000.0,1604192400000.0,1604275200000.0,1604361600000.0,1604448000000.0,1604534400000.0,1604620800000.0,1604707200000.0,1604793600000.0,1604880000000.0,1604966400000.0,1605052800000.0,1605139200000.0,1605225600000.0,1605312000000.0,1605398400000.0,1605484800000.0,1605571200000.0,1605657600000.0,1605744000000.0,1605830400000.0,1605916800000.0,1606003200000.0,1606089600000.0,1606176000000.0,1606262400000.0,1606348800000.0,1606435200000.0,1606521600000.0,1606608000000.0,1606694400000.0,1606780800000.0,1606867200000.0,1606953600000.0,1607040000000.0,1607126400000.0,1607212800000.0,1607299200000.0,1607385600000.0,1607472000000.0,1607558400000.0,1607644800000.0,1607731200000.0,1607817600000.0,1607904000000.0,1607990400000.0,1608076800000.0,1608163200000.0,1608249600000.0,1608336000000.0,1608422400000.0,1608508800000.0,1608595200000.0,1608681600000.0,1608768000000.0,1608854400000.0,1608940800000.0,1609027200000.0,1609113600000.0,1609200000000.0,1609286400000.0,1609372800000.0,1609459200000.0,1609545600000.0,1609632000000.0,1609718400000.0,1609804800000.0,1609891200000.0,1609977600000.0,1610064000000.0,1610150400000.0,1610236800000.0,1610323200000.0,1610409600000.0,1610496000000.0,1610582400000.0,1610668800000.0,1610755200000.0,1610841600000.0,1610928000000.0,1611014400000.0,1611100800000.0,1611187200000.0,1611273600000.0,1611360000000.0,1611446400000.0,1611532800000.0,1611619200000.0,1611705600000.0,1611792000000.0,1611878400000.0,1611964800000.0,1612051200000.0,1612137600000.0,1612224000000.0,1612310400000.0,1612396800000.0,1612483200000.0,1612569600000.0,1612656000000.0,1612742400000.0,1612828800000.0,1612915200000.0,1613001600000.0,1613088000000.0,1613174400000.0,1613260800000.0,1613347200000.0,1613433600000.0,1613520000000.0,1613606400000.0,1613692800000.0,1613779200000.0,1613865600000.0,1613952000000.0,1614038400000.0,1614124800000.0,1614211200000.0,1614297600000.0,1614384000000.0,1614470400000.0,1614556800000.0,1614643200000.0,1614729600000.0,1614816000000.0,1614902400000.0,1614988800000.0,1615075200000.0,1615161600000.0,1615248000000.0,1615334400000.0,1615420800000.0,1615507200000.0,1615593600000.0,1615680000000.0,1615770000000.0,1615856400000.0,1615942800000.0,1616029200000.0,1616115600000.0,1616202000000.0,1616288400000.0,1616374800000.0,1616461200000.0,1616547600000.0,1616634000000.0,1616720400000.0,1616806800000.0,1616893200000.0,1616979600000.0,1617066000000.0,1617152400000.0,1617238800000.0,1617325200000.0,1617411600000.0,1617498000000.0,1617584400000.0,1617670800000.0,1617757200000.0,1617843600000.0,1617930000000.0,1618016400000.0,1618102800000.0,1618189200000.0,1618275600000.0,1618362000000.0,1618448400000.0,1618534800000.0,1618621200000.0,1618707600000.0,1618794000000.0,1618880400000.0,1618966800000.0,1619053200000.0,1619139600000.0,1619226000000.0,1619312400000.0,1619398800000.0,1619485200000.0,1619571600000.0,1619658000000.0,1619744400000.0,1619830800000.0,1619917200000.0,1620003600000.0,1620090000000.0,1620176400000.0,1620262800000.0,1620349200000.0,1620435600000.0,1620522000000.0,1620608400000.0,1620694800000.0,1620781200000.0,1620867600000.0,1620954000000.0,1621040400000.0,1621126800000.0,1621213200000.0,1621299600000.0,1621386000000.0,1621472400000.0,1621558800000.0,1621645200000.0,1621731600000.0,1621818000000.0,1621904400000.0,1621990800000.0,1622077200000.0,1622163600000.0,1622250000000.0,1622336400000.0,1622422800000.0,1622509200000.0,1622595600000.0,1622682000000.0,1622768400000.0,1622854800000.0,1622941200000.0,1623027600000.0,1623114000000.0,1623200400000.0,1623286800000.0,1623373200000.0,1623459600000.0,1623546000000.0,1623632400000.0,1623718800000.0,1623805200000.0,1623891600000.0,1623978000000.0,1624064400000.0,1624150800000.0,1624237200000.0,1624323600000.0,1624410000000.0,1624496400000.0,1624582800000.0,1624669200000.0,1624755600000.0,1624842000000.0,1624928400000.0,1625014800000.0,1625101200000.0,1625187600000.0,1625274000000.0,1625360400000.0,1625446800000.0,1625533200000.0,1625619600000.0,1625706000000.0,1625792400000.0,1625878800000.0,1625965200000.0,1626051600000.0,1626138000000.0,1626224400000.0,1626310800000.0,1626397200000.0,1626483600000.0,1626570000000.0,1626656400000.0,1626742800000.0,1626829200000.0,1626915600000.0,1627002000000.0,1627088400000.0,1627174800000.0,1627261200000.0,1627347600000.0,1627434000000.0,1627520400000.0,1627606800000.0,1627693200000.0,1627779600000.0,1627866000000.0,1627952400000.0,1628038800000.0,1628125200000.0,1628211600000.0,1628298000000.0,1628384400000.0,1628470800000.0,1628557200000.0,1628643600000.0,1628730000000.0,1628816400000.0,1628902800000.0,1628989200000.0,1629075600000.0,1629162000000.0,1629248400000.0,1629334800000.0,1629421200000.0,1629507600000.0,1629594000000.0,1629680400000.0,1629766800000.0,1629853200000.0,1629939600000.0,1630026000000.0,1630112400000.0,1630198800000.0,1630285200000.0,1630371600000.0,1630458000000.0,1630544400000.0,1630630800000.0,1630717200000.0,1630803600000.0,1630890000000.0,1630976400000.0,1631062800000.0,1631149200000.0,1631235600000.0,1631322000000.0,1631408400000.0,1631494800000.0,1631581200000.0,1631667600000.0,1631754000000.0,1631840400000.0,1631926800000.0,1632013200000.0,1632099600000.0,1632186000000.0,1632272400000.0,1632358800000.0,1632445200000.0,1632531600000.0,1632618000000.0,1632704400000.0,1632790800000.0,1632877200000.0,1632963600000.0,1633050000000.0,1633136400000.0,1633222800000.0,1633309200000.0,1633395600000.0,1633482000000.0,1633568400000.0,1633654800000.0,1633741200000.0,1633827600000.0,1633914000000.0,1634000400000.0,1634086800000.0,1634173200000.0,1634259600000.0,1634346000000.0,1634432400000.0,1634518800000.0,1634605200000.0,1634691600000.0,1634778000000.0,1634864400000.0,1634950800000.0,1635037200000.0,1635123600000.0,1635210000000.0,1635296400000.0,1635382800000.0,1635469200000.0,1635555600000.0,1635642000000.0,1635728400000.0,1635814800000.0,1635901200000.0,1635987600000.0,1636074000000.0,1636160400000.0,1636246800000.0,1636329600000.0,1636416000000.0,1636502400000.0,1636588800000.0,1636675200000.0,1636761600000.0,1636848000000.0,1636934400000.0,1637020800000.0,1637107200000.0,1637193600000.0,1637280000000.0,1637366400000.0,1637452800000.0,1637539200000.0,1637625600000.0,1637712000000.0,1637798400000.0,1637884800000.0,1637971200000.0,1638057600000.0,1638144000000.0,1638230400000.0,1638316800000.0,1638403200000.0,1638489600000.0,1638576000000.0,1638662400000.0,1638748800000.0,1638835200000.0,1638921600000.0,1639008000000.0,1639094400000.0,1639180800000.0,1639267200000.0,1639353600000.0,1639440000000.0,1639526400000.0,1639612800000.0,1639699200000.0,1639785600000.0,1639872000000.0,1639958400000.0,1640044800000.0,1640131200000.0,1640217600000.0,1640304000000.0,1640390400000.0,1640476800000.0,1640563200000.0,1640649600000.0,1640736000000.0,1640822400000.0,1640908800000.0,1640995200000.0,1641081600000.0,1641168000000.0,1641254400000.0,1641340800000.0],\"value\":[10000.0,10000.0,10000.0,10000.0,10000.0,10000.0,10000.0,10000.0,10000.0,10000.0,10000.0,10000.0,10000.0,10000.0,10000.0,10000.0,10000.0,10000.0,10000.0,10000.0,10000.0,10000.0,10000.0,10000.0,10000.0,10000.0,10000.0,10000.0,10000.0,10000.0,10000.0,10000.0,10000.0,10000.0,10000.0,10000.0,10000.0,10000.0,10000.0,10000.0,10000.0,10000.0,10000.0,10000.0,10000.0,10000.0,10000.0,10000.0,10000.0,10000.0,10000.0,10000.0,10000.0,10000.0,10000.0,10000.0,10000.0,10000.0,10000.0,10000.0,10000.0,10000.0,10000.0,10000.0,10000.0,10000.0,10000.0,10000.0,10000.0,10000.0,10000.0,10000.0,10000.0,10000.0,10000.0,10000.0,10000.0,10000.0,10000.0,10000.0,10000.0,10000.0,10000.0,10000.0,10000.0,10000.0,10000.0,10000.0,10000.0,10000.0,10000.0,10000.0,10000.0,10000.0,10000.0,10000.0,10000.0,10000.0,10000.0,10000.0,10000.0,10000.0,10000.0,10000.0,10000.0,10000.0,10000.0,10000.0,10000.0,10000.0,10000.0,10000.0,10000.0,10000.0,10000.0,10000.0,10000.0,10000.0,10000.0,10000.0,10000.0,10000.0,10000.0,10000.0,10000.0,10000.0,10000.0,10000.0,10000.0,10000.0,10000.0,10000.0,10000.0,10000.0,10000.0,10000.0,10000.0,10000.0,10000.35,10000.35,10013.55,9991.0,10092.75,10069.650000000001,10069.650000000001,10069.650000000001,10184.05,10208.800000000001,10074.599999999999,10310.0,10373.800000000001,10373.800000000001,10373.800000000001,10453.0,10840.2,10258.85,10339.7,10405.7,10405.7,10405.7,10660.35,10697.2,10811.6,10747.25,11045.35,11045.35,11045.35,11119.05,10895.2,11032.7,10812.150000000001,10928.2,10928.2,10928.2,11205.4,11272.5,11358.3,11602.5,11602.5,11602.5,11602.5,11467.75,11719.650000000001,11801.6,11765.849999999999,11402.85,11402.85,11402.85,11473.25,11456.199999999999,11229.599999999999,11172.4,11652.0,11652.0,11652.0,11495.25,11660.25,11153.699999999999,11085.5,11225.75,11225.75,11225.75,11125.1,11237.3,11228.5,11289.55,11923.699999999999,11923.699999999999,11923.699999999999,11744.949999999999,11725.7,11913.25,11700.4,11467.75,11467.75,11467.75,11199.9,11519.45,11492.5,11503.5,11579.4,11579.4,11579.4,11645.95,11547.5,11815.900000000001,11730.1,11766.95,11766.95,11766.95,11919.85,12177.25,12475.900000000001,12604.05,12418.15,12418.15,12418.15,12513.85,12754.75,11965.5,11797.75,11160.3,11160.3,11160.3,11160.3,11634.949999999999,11309.35,11235.65,11311.55,11311.55,11311.55,11496.9,11291.75,11174.05,11035.449999999999,11153.699999999999,11153.699999999999,11153.699999999999,11422.099999999999,11046.45,11189.45,11444.1,11538.699999999999,11538.699999999999,11538.699999999999,11413.3,11582.150000000001,11699.300000000001,11354.45,11584.9,11584.9,11584.9,11339.05,11554.650000000001,11595.900000000001,11883.55,12191.0,12191.0,12191.0,12271.300000000001,12161.300000000001,12095.3,12095.3,11796.1,11796.1,11796.1,11819.75,11828.0,11832.949999999999,11906.65,11568.400000000001,11568.400000000001,11568.400000000001,11742.75,11149.85,11273.6,11149.85,11142.150000000001,11142.150000000001,11142.150000000001,11142.150000000001,11367.65,11915.449999999999,12294.949999999999,12318.6,12025.449999999999,12025.449999999999,12025.449999999999,11619.55,11924.25,11863.2,11922.05,11961.65,11961.65,11961.65,11809.300000000001,11623.400000000001,11697.099999999999,11585.449999999999,11570.050000000001,11570.050000000001,11570.050000000001,11776.300000000001,11776.85,11851.65,11851.65,11787.85,11787.85,11787.85,11905.550000000001,11859.35,11797.2,11803.800000000001,11799.949999999999,11799.949999999999,11799.949999999999,11894.55,11663.0,11592.6,11743.3,11795.0,11795.0,11795.0,11791.15,12074.4,12082.099999999999,12036.45,12256.45,12256.45,12256.45,12330.7,12170.1,12265.25,12386.800000000001,12386.800000000001,12386.800000000001,12386.800000000001,12342.25,12206.4,12247.099999999999,11986.95,11986.95,11986.95,11986.95,11998.5,11687.75,12019.949999999999,12093.1,11975.95,11975.95,11975.95,11835.15,11912.7,11730.1,11709.75,11918.2,11918.2,11918.2,11918.2,12352.7,12387.35,12441.25,12638.15,12638.15,12638.15,12792.150000000001,12823.5,13155.15,12771.800000000001,13194.75,13194.75,13194.75,13187.05,13379.0,13324.55,13335.0,13349.85,13349.85,13349.85,13421.35,13369.1,13460.95,13488.45,13417.5,13417.5,13417.5,13417.5,13445.0,13422.449999999999,13267.35,12912.05,12912.05,12912.05,12843.85,12914.25,12608.45,12794.9,13045.7,13045.7,13045.7,12876.85,12529.8,12484.15,12752.0,12520.449999999999,12520.449999999999,12520.449999999999,12871.9,12797.099999999999,13056.15,12980.25,12928.55,12928.55,13088.050000000001,13051.199999999999,12703.6,12683.25,12993.45,12993.45,12993.45,13080.900000000001,12964.300000000001,12792.7,13020.4,12952.2,12952.2,12952.2,12765.75,12981.35,13343.25,13712.85,13712.85,13712.85,13712.85,13646.300000000001,13758.5,13942.75,14085.75,14084.650000000001,14084.650000000001,14084.650000000001,14230.95,14083.55,14289.8,14345.35,14254.050000000001,14254.050000000001,14254.050000000001,14219.399999999998,14348.1,14158.35,14377.249999999998,14399.25,14399.25,14399.25,14422.350000000002,14014.8,13902.05,13883.9,13866.300000000001,13866.300000000001,13866.300000000001,13642.449999999999,13569.85,13748.050000000001,13899.300000000001,13608.9,13608.9,13608.9,13556.65,13160.65,13377.9,13662.25,13498.9,13498.9,13498.9,13383.400000000001,13385.6,13570.4,13498.349999999999,13806.9,13806.9,13806.9,13858.6,13845.95,13726.05,13746.4,13621.0,13621.0,13621.0,13621.0,13615.5,13528.050000000001,13807.449999999999,13973.55,13973.55,13973.55,13905.35,13961.45,14162.2,14197.949999999999,14307.949999999999,14307.949999999999,14307.949999999999,14223.800000000001,14169.9,14363.499999999998,14282.65,14458.65,14458.65,14458.65,14617.05,14604.124999999998,14681.95,14590.099999999999,14793.600000000002,14793.600000000002,14793.600000000002,14940.999999999998,14913.499999999998,14952.000000000002,15284.749999999998,15285.300000000001,15285.300000000001,15285.300000000001,15285.300000000001,15410.15,15272.1,15300.7,15266.6,15266.6,15266.6,15467.900000000001,15552.05,15470.649999999998,15455.25,15249.55,15249.55,15249.55,15376.6,15490.999999999998,15751.699999999999,15945.85,15911.75,15911.75,15911.75,15773.7,15756.100000000002,15771.5,15684.050000000001,15679.1,15679.1,15679.1,15805.6,15772.05,15937.599999999999,15934.3,15872.15,15872.15,15872.15,15768.2,15796.25,15953.55,16120.750000000002,16217.000000000002,16217.000000000002,16217.000000000002,16133.4,16004.150000000001,16336.349999999999,16753.8,16769.75,16769.75,16769.75,16658.1,16624.55,16463.949999999997,16498.600000000002,16711.449999999997,16711.449999999997,16711.449999999997,16617.4,16614.649999999998,16577.25,16576.7,16523.9,16523.9,16523.9,16523.9,16525.55,16362.75,16278.05,16348.45,16348.45,16348.45,16502.45,16779.1,16801.100000000002,16506.85,16200.5,16200.5,16200.5,16228.0,16435.899999999998,16489.8,16478.25,16193.35,16193.35,16193.35,15607.599999999999,15634.0,15519.6,15914.500000000002,15585.050000000001,15585.050000000001,15585.050000000001,15895.8,16135.050000000001,16230.750000000002,16230.750000000002,16196.650000000001,16196.650000000001,16196.650000000001,16122.4,16311.05,16665.25,16745.55,16914.95,16914.95,16914.95,16966.65,16921.550000000003,17105.8,17017.800000000003,16961.15,16961.15,16961.15,17070.05,17788.350000000002,17853.25,18253.1,18129.35,18129.35,18129.35,18336.15,18384.0,18518.2,18497.3,18548.45,18548.45,18548.45,18548.45,18491.25,18208.0,18297.65,18533.600000000002,18497.85,18497.85,18497.85,18687.05,18665.6,18783.85,18885.05,18704.649999999998,18704.649999999998,18704.649999999998,18586.4,18599.050000000003,18146.4,18146.4,18528.65,18528.65,18528.65,18196.449999999997,18168.399999999998,18135.95,17779.55,17954.45,17954.45,17954.45,18434.600000000002,18437.350000000002,18334.5,18853.7,18681.0,18681.0,18681.0,18072.699999999997,18419.75,17883.5,17823.0,17609.050000000003,17609.050000000003,17609.050000000003,18014.95,18340.0,18421.95,18848.75,18848.75,18848.75,18848.75,18782.75,18821.25,18676.6,18511.6,18425.25,18425.25,18425.25,18109.55,17414.9]},\"selected\":{\"id\":\"1179\"},\"selection_policy\":{\"id\":\"1178\"}},\"id\":\"1163\",\"type\":\"ColumnDataSource\"},{\"attributes\":{},\"id\":\"1046\",\"type\":\"AllLabels\"},{\"attributes\":{},\"id\":\"1146\",\"type\":\"BasicTicker\"},{\"attributes\":{},\"id\":\"1022\",\"type\":\"WheelZoomTool\"},{\"attributes\":{},\"id\":\"1176\",\"type\":\"DatetimeTickFormatter\"},{\"attributes\":{\"days\":[1,2,3,4,5,6,7,8,9,10,11,12,13,14,15,16,17,18,19,20,21,22,23,24,25,26,27,28,29,30,31]},\"id\":\"1184\",\"type\":\"DaysTicker\"},{\"attributes\":{},\"id\":\"1021\",\"type\":\"PanTool\"},{\"attributes\":{\"overlay\":{\"id\":\"1027\"}},\"id\":\"1023\",\"type\":\"BoxZoomTool\"},{\"attributes\":{},\"id\":\"1048\",\"type\":\"DatetimeTickFormatter\"},{\"attributes\":{},\"id\":\"1024\",\"type\":\"SaveTool\"},{\"attributes\":{},\"id\":\"1149\",\"type\":\"PanTool\"},{\"attributes\":{},\"id\":\"1177\",\"type\":\"AllLabels\"},{\"attributes\":{},\"id\":\"1025\",\"type\":\"ResetTool\"},{\"attributes\":{},\"id\":\"1154\",\"type\":\"HelpTool\"},{\"attributes\":{},\"id\":\"1049\",\"type\":\"AllLabels\"},{\"attributes\":{\"bottom_units\":\"screen\",\"coordinates\":null,\"fill_alpha\":0.5,\"fill_color\":\"lightgrey\",\"group\":null,\"left_units\":\"screen\",\"level\":\"overlay\",\"line_alpha\":1.0,\"line_color\":\"black\",\"line_dash\":[4,4],\"line_width\":2,\"right_units\":\"screen\",\"syncable\":false,\"top_units\":\"screen\"},\"id\":\"1155\",\"type\":\"BoxAnnotation\"},{\"attributes\":{\"bottom_units\":\"screen\",\"coordinates\":null,\"fill_alpha\":0.5,\"fill_color\":\"lightgrey\",\"group\":null,\"left_units\":\"screen\",\"level\":\"overlay\",\"line_alpha\":1.0,\"line_color\":\"black\",\"line_dash\":[4,4],\"line_width\":2,\"right_units\":\"screen\",\"syncable\":false,\"top_units\":\"screen\"},\"id\":\"1027\",\"type\":\"BoxAnnotation\"},{\"attributes\":{\"line_color\":\"#1f77b4\",\"line_width\":2,\"mode\":\"after\",\"x\":{\"field\":\"time\"},\"y\":{\"field\":\"value\"}},\"id\":\"1037\",\"type\":\"Step\"},{\"attributes\":{\"line_color\":\"#2ca02c\",\"line_width\":2,\"mode\":\"after\",\"x\":{\"field\":\"time\"},\"y\":{\"field\":\"value\"}},\"id\":\"1165\",\"type\":\"Step\"},{\"attributes\":{\"months\":[0,4,8]},\"id\":\"1062\",\"type\":\"MonthsTicker\"},{\"attributes\":{},\"id\":\"1178\",\"type\":\"UnionRenderers\"},{\"attributes\":{},\"id\":\"1050\",\"type\":\"UnionRenderers\"},{\"attributes\":{},\"id\":\"1179\",\"type\":\"Selection\"},{\"attributes\":{},\"id\":\"1051\",\"type\":\"Selection\"},{\"attributes\":{\"days\":[1,8,15,22]},\"id\":\"1058\",\"type\":\"DaysTicker\"},{\"attributes\":{\"tools\":[{\"id\":\"1021\"},{\"id\":\"1022\"},{\"id\":\"1023\"},{\"id\":\"1024\"},{\"id\":\"1025\"},{\"id\":\"1026\"},{\"id\":\"1003\"}]},\"id\":\"1028\",\"type\":\"Toolbar\"},{\"attributes\":{\"tools\":[{\"id\":\"1149\"},{\"id\":\"1150\"},{\"id\":\"1151\"},{\"id\":\"1152\"},{\"id\":\"1153\"},{\"id\":\"1154\"},{\"id\":\"1003\"}]},\"id\":\"1156\",\"type\":\"Toolbar\"},{\"attributes\":{\"line_color\":\"#d62728\",\"line_width\":2,\"mode\":\"after\",\"x\":{\"field\":\"time\"},\"y\":{\"field\":\"value\"}},\"id\":\"1197\",\"type\":\"Step\"},{\"attributes\":{\"data\":{\"time\":[1578441600000.0,1578441600000.0,1578528000000.0,1578614400000.0,1578700800000.0,1578787200000.0,1578873600000.0,1578960000000.0,1579046400000.0,1579132800000.0,1579219200000.0,1579305600000.0,1579392000000.0,1579478400000.0,1579564800000.0,1579651200000.0,1579737600000.0,1579824000000.0,1579910400000.0,1579996800000.0,1580083200000.0,1580169600000.0,1580256000000.0,1580342400000.0,1580428800000.0,1580515200000.0,1580601600000.0,1580688000000.0,1580774400000.0,1580860800000.0,1580947200000.0,1581033600000.0,1581120000000.0,1581206400000.0,1581292800000.0,1581379200000.0,1581465600000.0,1581552000000.0,1581638400000.0,1581724800000.0,1581811200000.0,1581897600000.0,1581984000000.0,1582070400000.0,1582156800000.0,1582243200000.0,1582329600000.0,1582416000000.0,1582502400000.0,1582588800000.0,1582675200000.0,1582761600000.0,1582848000000.0,1582934400000.0,1583020800000.0,1583107200000.0,1583193600000.0,1583280000000.0,1583366400000.0,1583452800000.0,1583539200000.0,1583625600000.0,1583715600000.0,1583802000000.0,1583888400000.0,1583974800000.0,1584061200000.0,1584147600000.0,1584234000000.0,1584320400000.0,1584406800000.0,1584493200000.0,1584579600000.0,1584666000000.0,1584752400000.0,1584838800000.0,1584925200000.0,1585011600000.0,1585098000000.0,1585184400000.0,1585270800000.0,1585357200000.0,1585443600000.0,1585530000000.0,1585616400000.0,1585702800000.0,1585789200000.0,1585875600000.0,1585962000000.0,1586048400000.0,1586134800000.0,1586221200000.0,1586307600000.0,1586394000000.0,1586480400000.0,1586566800000.0,1586653200000.0,1586739600000.0,1586826000000.0,1586912400000.0,1586998800000.0,1587085200000.0,1587171600000.0,1587258000000.0,1587344400000.0,1587430800000.0,1587517200000.0,1587603600000.0,1587690000000.0,1587776400000.0,1587862800000.0,1587949200000.0,1588035600000.0,1588122000000.0,1588208400000.0,1588294800000.0,1588381200000.0,1588467600000.0,1588554000000.0,1588640400000.0,1588726800000.0,1588813200000.0,1588899600000.0,1588986000000.0,1589072400000.0,1589158800000.0,1589245200000.0,1589331600000.0,1589418000000.0,1589504400000.0,1589590800000.0,1589677200000.0,1589763600000.0,1589850000000.0,1589936400000.0,1590022800000.0,1590109200000.0,1590195600000.0,1590282000000.0,1590368400000.0,1590454800000.0,1590541200000.0,1590627600000.0,1590714000000.0,1590800400000.0,1590886800000.0,1590973200000.0,1591059600000.0,1591146000000.0,1591232400000.0,1591318800000.0,1591405200000.0,1591491600000.0,1591578000000.0,1591664400000.0,1591750800000.0,1591837200000.0,1591923600000.0,1592010000000.0,1592096400000.0,1592182800000.0,1592269200000.0,1592355600000.0,1592442000000.0,1592528400000.0,1592614800000.0,1592701200000.0,1592787600000.0,1592874000000.0,1592960400000.0,1593046800000.0,1593133200000.0,1593219600000.0,1593306000000.0,1593392400000.0,1593478800000.0,1593565200000.0,1593651600000.0,1593738000000.0,1593824400000.0,1593910800000.0,1593997200000.0,1594083600000.0,1594170000000.0,1594256400000.0,1594342800000.0,1594429200000.0,1594515600000.0,1594602000000.0,1594688400000.0,1594774800000.0,1594861200000.0,1594947600000.0,1595034000000.0,1595120400000.0,1595206800000.0,1595293200000.0,1595379600000.0,1595466000000.0,1595552400000.0,1595638800000.0,1595725200000.0,1595811600000.0,1595898000000.0,1595984400000.0,1596070800000.0,1596157200000.0,1596243600000.0,1596330000000.0,1596416400000.0,1596502800000.0,1596589200000.0,1596675600000.0,1596762000000.0,1596848400000.0,1596934800000.0,1597021200000.0,1597107600000.0,1597194000000.0,1597280400000.0,1597366800000.0,1597453200000.0,1597539600000.0,1597626000000.0,1597712400000.0,1597798800000.0,1597885200000.0,1597971600000.0,1598058000000.0,1598144400000.0,1598230800000.0,1598317200000.0,1598403600000.0,1598490000000.0,1598576400000.0,1598662800000.0,1598749200000.0,1598835600000.0,1598922000000.0,1599008400000.0,1599094800000.0,1599181200000.0,1599267600000.0,1599354000000.0,1599440400000.0,1599526800000.0,1599613200000.0,1599699600000.0,1599786000000.0,1599872400000.0,1599958800000.0,1600045200000.0,1600131600000.0,1600218000000.0,1600304400000.0,1600390800000.0,1600477200000.0,1600563600000.0,1600650000000.0,1600736400000.0,1600822800000.0,1600909200000.0,1600995600000.0,1601082000000.0,1601168400000.0,1601254800000.0,1601341200000.0,1601427600000.0,1601514000000.0,1601600400000.0,1601686800000.0,1601773200000.0,1601859600000.0,1601946000000.0,1602032400000.0,1602118800000.0,1602205200000.0,1602291600000.0,1602378000000.0,1602464400000.0,1602550800000.0,1602637200000.0,1602723600000.0,1602810000000.0,1602896400000.0,1602982800000.0,1603069200000.0,1603155600000.0,1603242000000.0,1603328400000.0,1603414800000.0,1603501200000.0,1603587600000.0,1603674000000.0,1603760400000.0,1603846800000.0,1603933200000.0,1604019600000.0,1604106000000.0,1604192400000.0,1604275200000.0,1604361600000.0,1604448000000.0,1604534400000.0,1604620800000.0,1604707200000.0,1604793600000.0,1604880000000.0,1604966400000.0,1605052800000.0,1605139200000.0,1605225600000.0,1605312000000.0,1605398400000.0,1605484800000.0,1605571200000.0,1605657600000.0,1605744000000.0,1605830400000.0,1605916800000.0,1606003200000.0,1606089600000.0,1606176000000.0,1606262400000.0,1606348800000.0,1606435200000.0,1606521600000.0,1606608000000.0,1606694400000.0,1606780800000.0,1606867200000.0,1606953600000.0,1607040000000.0,1607126400000.0,1607212800000.0,1607299200000.0,1607385600000.0,1607472000000.0,1607558400000.0,1607644800000.0,1607731200000.0,1607817600000.0,1607904000000.0,1607990400000.0,1608076800000.0,1608163200000.0,1608249600000.0,1608336000000.0,1608422400000.0,1608508800000.0,1608595200000.0,1608681600000.0,1608768000000.0,1608854400000.0,1608940800000.0,1609027200000.0,1609113600000.0,1609200000000.0,1609286400000.0,1609372800000.0,1609459200000.0,1609545600000.0,1609632000000.0,1609718400000.0,1609804800000.0,1609891200000.0,1609977600000.0,1610064000000.0,1610150400000.0,1610236800000.0,1610323200000.0,1610409600000.0,1610496000000.0,1610582400000.0,1610668800000.0,1610755200000.0,1610841600000.0,1610928000000.0,1611014400000.0,1611100800000.0,1611187200000.0,1611273600000.0,1611360000000.0,1611446400000.0,1611532800000.0,1611619200000.0,1611705600000.0,1611792000000.0,1611878400000.0,1611964800000.0,1612051200000.0,1612137600000.0,1612224000000.0,1612310400000.0,1612396800000.0,1612483200000.0,1612569600000.0,1612656000000.0,1612742400000.0,1612828800000.0,1612915200000.0,1613001600000.0,1613088000000.0,1613174400000.0,1613260800000.0,1613347200000.0,1613433600000.0,1613520000000.0,1613606400000.0,1613692800000.0,1613779200000.0,1613865600000.0,1613952000000.0,1614038400000.0,1614124800000.0,1614211200000.0,1614297600000.0,1614384000000.0,1614470400000.0,1614556800000.0,1614643200000.0,1614729600000.0,1614816000000.0,1614902400000.0,1614988800000.0,1615075200000.0,1615161600000.0,1615248000000.0,1615334400000.0,1615420800000.0,1615507200000.0,1615593600000.0,1615680000000.0,1615770000000.0,1615856400000.0,1615942800000.0,1616029200000.0,1616115600000.0,1616202000000.0,1616288400000.0,1616374800000.0,1616461200000.0,1616547600000.0,1616634000000.0,1616720400000.0,1616806800000.0,1616893200000.0,1616979600000.0,1617066000000.0,1617152400000.0,1617238800000.0,1617325200000.0,1617411600000.0,1617498000000.0,1617584400000.0,1617670800000.0,1617757200000.0,1617843600000.0,1617930000000.0,1618016400000.0,1618102800000.0,1618189200000.0,1618275600000.0,1618362000000.0,1618448400000.0,1618534800000.0,1618621200000.0,1618707600000.0,1618794000000.0,1618880400000.0,1618966800000.0,1619053200000.0,1619139600000.0,1619226000000.0,1619312400000.0,1619398800000.0,1619485200000.0,1619571600000.0,1619658000000.0,1619744400000.0,1619830800000.0,1619917200000.0,1620003600000.0,1620090000000.0,1620176400000.0,1620262800000.0,1620349200000.0,1620435600000.0,1620522000000.0,1620608400000.0,1620694800000.0,1620781200000.0,1620867600000.0,1620954000000.0,1621040400000.0,1621126800000.0,1621213200000.0,1621299600000.0,1621386000000.0,1621472400000.0,1621558800000.0,1621645200000.0,1621731600000.0,1621818000000.0,1621904400000.0,1621990800000.0,1622077200000.0,1622163600000.0,1622250000000.0,1622336400000.0,1622422800000.0,1622509200000.0,1622595600000.0,1622682000000.0,1622768400000.0,1622854800000.0,1622941200000.0,1623027600000.0,1623114000000.0,1623200400000.0,1623286800000.0,1623373200000.0,1623459600000.0,1623546000000.0,1623632400000.0,1623718800000.0,1623805200000.0,1623891600000.0,1623978000000.0,1624064400000.0,1624150800000.0,1624237200000.0,1624323600000.0,1624410000000.0,1624496400000.0,1624582800000.0,1624669200000.0,1624755600000.0,1624842000000.0,1624928400000.0,1625014800000.0,1625101200000.0,1625187600000.0,1625274000000.0,1625360400000.0,1625446800000.0,1625533200000.0,1625619600000.0,1625706000000.0,1625792400000.0,1625878800000.0,1625965200000.0,1626051600000.0,1626138000000.0,1626224400000.0,1626310800000.0,1626397200000.0,1626483600000.0,1626570000000.0,1626656400000.0,1626742800000.0,1626829200000.0,1626915600000.0,1627002000000.0,1627088400000.0,1627174800000.0,1627261200000.0,1627347600000.0,1627434000000.0,1627520400000.0,1627606800000.0,1627693200000.0,1627779600000.0,1627866000000.0,1627952400000.0,1628038800000.0,1628125200000.0,1628211600000.0,1628298000000.0,1628384400000.0,1628470800000.0,1628557200000.0,1628643600000.0,1628730000000.0,1628816400000.0,1628902800000.0,1628989200000.0,1629075600000.0,1629162000000.0,1629248400000.0,1629334800000.0,1629421200000.0,1629507600000.0,1629594000000.0,1629680400000.0,1629766800000.0,1629853200000.0,1629939600000.0,1630026000000.0,1630112400000.0,1630198800000.0,1630285200000.0,1630371600000.0,1630458000000.0,1630544400000.0,1630630800000.0,1630717200000.0,1630803600000.0,1630890000000.0,1630976400000.0,1631062800000.0,1631149200000.0,1631235600000.0,1631322000000.0,1631408400000.0,1631494800000.0,1631581200000.0,1631667600000.0,1631754000000.0,1631840400000.0,1631926800000.0,1632013200000.0,1632099600000.0,1632186000000.0,1632272400000.0,1632358800000.0,1632445200000.0,1632531600000.0,1632618000000.0,1632704400000.0,1632790800000.0,1632877200000.0,1632963600000.0,1633050000000.0,1633136400000.0,1633222800000.0,1633309200000.0,1633395600000.0,1633482000000.0,1633568400000.0,1633654800000.0,1633741200000.0,1633827600000.0,1633914000000.0,1634000400000.0,1634086800000.0,1634173200000.0,1634259600000.0,1634346000000.0,1634432400000.0,1634518800000.0,1634605200000.0,1634691600000.0,1634778000000.0,1634864400000.0,1634950800000.0,1635037200000.0,1635123600000.0,1635210000000.0,1635296400000.0,1635382800000.0,1635469200000.0,1635555600000.0,1635642000000.0,1635728400000.0,1635814800000.0,1635901200000.0,1635987600000.0,1636074000000.0,1636160400000.0,1636246800000.0,1636329600000.0,1636416000000.0,1636502400000.0,1636588800000.0,1636675200000.0,1636761600000.0,1636848000000.0,1636934400000.0,1637020800000.0,1637107200000.0,1637193600000.0,1637280000000.0,1637366400000.0,1637452800000.0,1637539200000.0,1637625600000.0,1637712000000.0,1637798400000.0,1637884800000.0,1637971200000.0,1638057600000.0,1638144000000.0,1638230400000.0,1638316800000.0,1638403200000.0,1638489600000.0,1638576000000.0,1638662400000.0,1638748800000.0,1638835200000.0,1638921600000.0,1639008000000.0,1639094400000.0,1639180800000.0,1639267200000.0,1639353600000.0,1639440000000.0,1639526400000.0,1639612800000.0,1639699200000.0,1639785600000.0,1639872000000.0,1639958400000.0,1640044800000.0,1640131200000.0,1640217600000.0,1640304000000.0,1640390400000.0,1640476800000.0,1640563200000.0,1640649600000.0,1640736000000.0,1640822400000.0,1640908800000.0,1640995200000.0,1641081600000.0,1641168000000.0,1641254400000.0,1641340800000.0],\"value\":[10000.0,10000.0,10000.0,10000.0,10000.0,10000.0,10000.0,10000.0,10000.0,10000.0,10000.0,10000.0,10000.0,10000.0,10000.0,10000.0,10000.0,10000.0,10000.0,10000.0,10000.0,10000.0,10000.0,10000.0,10000.0,10000.0,10000.0,10000.0,10000.0,10000.0,10000.0,10000.0,10000.0,10000.0,10000.0,10000.0,10000.0,10000.0,10000.0,10000.0,10000.0,10000.0,10000.0,10000.0,10000.0,10000.0,10000.0,10000.0,10000.0,10000.0,10000.0,10000.0,10000.0,10000.0,10000.0,10000.0,10000.0,10000.0,10000.0,10000.0,10000.0,10000.0,10000.0,10000.0,10000.0,10000.0,10000.0,10000.0,10000.0,10000.0,10000.0,10000.0,10000.0,10000.0,10000.0,10000.0,10000.0,10000.0,10000.0,10000.0,10000.0,10000.0,10000.0,10000.0,10000.0,10000.0,10000.0,10000.0,10000.0,10000.0,10000.0,10000.0,10000.0,10000.0,10000.0,10000.0,10000.0,10000.0,10000.0,10000.0,10000.0,10000.0,10000.0,10000.0,10000.0,10000.0,10000.0,10000.0,10000.0,10000.0,10000.0,10000.0,10000.0,10000.0,10000.0,10000.0,10000.0,10000.0,10000.0,10000.0,10000.0,10000.0,10000.0,10000.0,10000.0,10000.0,10000.0,10000.0,10000.0,10000.0,10000.0,10000.0,10000.0,10000.0,10000.0,10000.0,10000.0,10000.0,10000.0,10000.0,10000.0,10000.0,10000.0,10000.0,10000.0,10000.0,10000.0,10000.0,10000.0,10000.0,10000.0,10000.0,10000.0,10000.0,10000.0,10000.0,10000.0,10000.0,10000.0,10000.0,10000.0,10000.0,10000.0,10000.0,10000.0,10000.0,10000.0,10000.0,10000.0,10000.0,10000.0,10000.0,10000.0,10000.0,10000.0,10000.0,10000.0,10000.0,10000.0,10000.0,10000.0,10000.0,10000.0,10000.0,10000.0,10000.0,10000.0,10000.0,10000.0,10000.0,10000.0,10000.0,10000.0,10000.0,10000.0,10000.0,10000.0,10000.0,10000.0,10000.0,10000.0,10000.0,10000.0,10000.0,10000.0,10000.0,10000.0,10000.0,10000.0,10000.0,10000.0,10000.0,10000.0,10000.0,10000.0,10000.0,10000.0,10000.0,10000.0,10000.0,10000.0,10000.0,10000.0,10000.0,10000.0,10000.0,10000.0,10000.0,10000.0,10000.0,10000.0,10000.0,10000.0,10000.0,10000.0,10000.0,10000.0,10000.0,10000.0,10000.0,10000.0,10000.0,10000.0,10000.0,10000.0,10000.0,10000.0,10000.0,10000.0,10000.0,10000.0,10000.0,10000.0,10000.0,10000.0,10000.0,10000.0,10000.0,10000.0,10000.0,10000.0,10000.0,10000.0,10000.0,10000.0,10000.0,10000.0,10000.0,10000.0,10000.0,10000.0,10000.0,10000.0,10000.0,10000.0,10000.0,10000.0,10000.0,10000.0,10000.0,10000.0,10000.0,10000.0,10000.0,10000.0,10000.0,10000.0,10000.0,10000.0,10000.0,10000.0,10000.0,10000.0,10000.0,10000.0,10000.0,10000.0,10000.0,10000.0,10000.0,10000.0,10000.0,10000.0,10000.0,10000.0,10000.0,10000.0,10000.0,10000.0,10000.0,10000.0,10000.0,10000.0,10000.0,10000.0,10000.0,10000.0,10000.0,10000.0,10000.0,10000.0,10000.0,10000.0,10000.0,10000.0,10000.0,10000.0,10000.0,10000.0,10000.0,10000.0,10000.0,10000.0,10000.0,10000.0,10000.0,10000.0,10000.0,10000.0,10000.0,10000.0,10000.0,10000.0,10000.0,10000.0,10000.0,10000.0,10000.0,10000.0,10000.0,10000.0,10000.0,10000.0,10000.0,10000.0,10000.0,10000.0,10000.0,10000.0,10000.0,10000.0,10000.0,10000.0,10000.0,10000.0,10000.0,10000.0,10000.0,10000.0,10000.0,10000.0,10000.0,10000.0,10000.0,10000.0,10000.0,10000.0,10000.0,10000.0,10000.0,10000.0,10000.0,10000.0,10000.0,10000.0,10000.0,10000.0,10000.0,10000.0,10000.0,10000.0,10000.0,10000.0,10000.0,10000.0,10000.0,10000.0,10000.0,10000.0,10000.0,10000.0,10000.0,10000.0,10000.0,10000.0,10000.0,10000.0,10000.0,10000.0,10000.0,10000.0,10000.0,10000.0,10000.0,10000.0,10000.0,10000.0,10000.0,10000.0,10000.0,10000.0,10000.0,10000.0,10000.0,10000.0,10000.0,10000.0,10000.0,10000.0,10000.0,10000.0,10000.0,10000.0,10000.0,10000.0,10000.0,10000.0,10000.0,10000.0,10000.0,10000.0,10000.0,10000.0,10000.0,10000.0,10000.0,10000.0,10000.0,10000.0,10000.0,10000.0,10000.0,10000.0,10000.0,10000.0,10000.0,10000.0,10000.0,10000.0,10000.0,10000.0,10000.0,10000.0,10000.0,10000.0,10000.0,10000.0,10000.0,10000.0,10000.0,10000.0,10000.0,10000.0,10000.0,10000.0,10000.0,10000.0,10000.0,10000.0,10000.0,10000.0,10000.0,10000.0,10000.0,10000.0,10000.0,10000.0,10000.0,10000.0,10000.0,10000.0,10000.0,10000.0,10000.0,10000.0,10000.0,10000.0,10000.0,10000.0,10000.0,10000.0,10000.0,10000.0,10000.0,10000.0,10000.0,10000.0,10000.0,10000.0,10000.0,10000.0,10000.0,10000.0,10000.0,10000.0,10000.0,10000.0,10000.0,10000.0,10000.0,10000.0,10000.0,10000.0,10000.0,10000.0,10000.0,10000.0,10000.0,10000.0,10000.0,10000.0,10000.0,10000.0,10000.0,10000.0,10000.0,10000.0,10000.0,10000.0,10000.0,10000.0,10000.0,10000.0,10000.0,10000.0,10000.0,10000.0,10000.0,10000.0,10000.0,10000.0,10000.0,10000.0,10000.0,10000.0,10000.0,10000.0,10000.0,10000.0,10000.0,10000.0,10000.0,10000.0,10000.0,10000.0,10000.0,10000.0,10000.0,10000.0,10000.0,10000.0,10000.0,10000.0,10000.0,10000.0,10000.0,10000.0,10000.0,10000.0,10000.0,10000.0,10000.0,10000.0,10000.0,10000.0,10000.0,10000.0,10000.0,10000.0,10000.0,10000.0,10000.0,10000.0,10000.0,10000.0,10000.0,10000.0,10000.0,10000.0,10000.0,10000.0,10000.0,10000.0,10000.0,10000.0,10000.0,10000.0,10000.0,10000.0,10000.0,10000.0,10000.0,10000.0,10000.0,10000.0,10000.0,10000.0,10000.0,10000.0,10000.0,10000.0,10000.0,10000.0,10000.0,10000.0,10000.0,10000.0,10000.0,10000.0,10000.0,10000.0,10000.0,10000.0,10000.0,10000.0,10000.0,10000.0,10000.0,10000.0,10000.0,10000.0,10000.0,10000.0,10000.0,10000.0,10000.0,10000.0,10000.0,10000.0,10000.0,10000.0,10000.0,10000.0,10000.0,10000.0,10000.0,10000.0,10000.0,10000.0,10000.0,10000.0,10000.0,10000.0,10000.0,10000.0,10000.0,10000.0,10000.0,10000.0,10000.0,10000.0,10000.0,10000.0,10000.0,10000.0,10000.0,10000.0,10000.0,10000.0,10000.0,10000.0,10000.0,10000.0,10000.0,10000.0,10000.0,10000.0,10000.0,10000.0,10000.0,10000.0,10000.0,10000.0,10000.0,10000.0,10000.0,10000.0,10000.0,10000.0,10000.0,10000.0,10000.0,10000.0,10000.0,10000.0,10000.0,10000.0,10000.0,10000.0,10000.0,10000.0,10000.0,10000.0,10000.0,10000.0,10000.0,10000.0,10000.0,10000.0,10000.0,10000.0,10000.0,10000.0,10000.0,10000.0,10000.0,10000.0,10000.0,10000.0,10000.0]},\"selected\":{\"id\":\"1213\"},\"selection_policy\":{\"id\":\"1212\"}},\"id\":\"1195\",\"type\":\"ColumnDataSource\"},{\"attributes\":{},\"id\":\"1150\",\"type\":\"WheelZoomTool\"},{\"attributes\":{\"line_alpha\":0.2,\"line_color\":\"#2ca02c\",\"line_width\":2,\"mode\":\"after\",\"x\":{\"field\":\"time\"},\"y\":{\"field\":\"value\"}},\"id\":\"1167\",\"type\":\"Step\"},{\"attributes\":{\"line_alpha\":0.2,\"line_color\":\"#1f77b4\",\"line_width\":2,\"mode\":\"after\",\"x\":{\"field\":\"time\"},\"y\":{\"field\":\"value\"}},\"id\":\"1039\",\"type\":\"Step\"},{\"attributes\":{\"coordinates\":null,\"formatter\":{\"id\":\"1112\"},\"group\":null,\"major_label_policy\":{\"id\":\"1113\"},\"ticker\":{\"id\":\"1078\"}},\"id\":\"1077\",\"type\":\"DatetimeAxis\"},{\"attributes\":{\"coordinates\":null,\"group\":null},\"id\":\"1170\",\"type\":\"Title\"},{\"attributes\":{\"below\":[{\"id\":\"1077\"}],\"center\":[{\"id\":\"1080\"},{\"id\":\"1084\"},{\"id\":\"1129\"}],\"height\":200,\"left\":[{\"id\":\"1081\"}],\"renderers\":[{\"id\":\"1104\"}],\"title\":{\"id\":\"1106\"},\"toolbar\":{\"id\":\"1092\"},\"width\":900,\"x_range\":{\"id\":\"1005\"},\"x_scale\":{\"id\":\"1073\"},\"y_range\":{\"id\":\"1071\"},\"y_scale\":{\"id\":\"1075\"}},\"id\":\"1068\",\"subtype\":\"Figure\",\"type\":\"Plot\"},{\"attributes\":{\"coordinates\":null,\"group\":null},\"id\":\"1042\",\"type\":\"Title\"},{\"attributes\":{\"line_alpha\":0.2,\"line_color\":\"#d62728\",\"line_width\":2,\"mode\":\"after\",\"x\":{\"field\":\"time\"},\"y\":{\"field\":\"value\"}},\"id\":\"1199\",\"type\":\"Step\"},{\"attributes\":{},\"id\":\"1071\",\"type\":\"DataRange1d\"},{\"attributes\":{},\"id\":\"1075\",\"type\":\"LinearScale\"},{\"attributes\":{\"line_alpha\":0.1,\"line_color\":\"#2ca02c\",\"line_width\":2,\"mode\":\"after\",\"x\":{\"field\":\"time\"},\"y\":{\"field\":\"value\"}},\"id\":\"1166\",\"type\":\"Step\"},{\"attributes\":{},\"id\":\"1073\",\"type\":\"LinearScale\"},{\"attributes\":{\"line_alpha\":0.1,\"line_color\":\"#d62728\",\"line_width\":2,\"mode\":\"after\",\"x\":{\"field\":\"time\"},\"y\":{\"field\":\"value\"}},\"id\":\"1198\",\"type\":\"Step\"},{\"attributes\":{\"coordinates\":null,\"data_source\":{\"id\":\"1163\"},\"glyph\":{\"id\":\"1165\"},\"group\":null,\"hover_glyph\":null,\"muted_glyph\":{\"id\":\"1167\"},\"nonselection_glyph\":{\"id\":\"1166\"},\"view\":{\"id\":\"1169\"}},\"id\":\"1168\",\"type\":\"GlyphRenderer\"},{\"attributes\":{\"coordinates\":null,\"data_source\":{\"id\":\"1195\"},\"glyph\":{\"id\":\"1197\"},\"group\":null,\"hover_glyph\":null,\"muted_glyph\":{\"id\":\"1199\"},\"nonselection_glyph\":{\"id\":\"1198\"},\"view\":{\"id\":\"1201\"}},\"id\":\"1200\",\"type\":\"GlyphRenderer\"},{\"attributes\":{\"line_alpha\":0.1,\"line_color\":\"#1f77b4\",\"line_width\":2,\"mode\":\"after\",\"x\":{\"field\":\"time\"},\"y\":{\"field\":\"value\"}},\"id\":\"1038\",\"type\":\"Step\"},{\"attributes\":{\"num_minor_ticks\":5,\"tickers\":[{\"id\":\"1117\"},{\"id\":\"1118\"},{\"id\":\"1119\"},{\"id\":\"1120\"},{\"id\":\"1121\"},{\"id\":\"1122\"},{\"id\":\"1123\"},{\"id\":\"1124\"},{\"id\":\"1125\"},{\"id\":\"1126\"},{\"id\":\"1127\"},{\"id\":\"1128\"}]},\"id\":\"1078\",\"type\":\"DatetimeTicker\"},{\"attributes\":{\"axis\":{\"id\":\"1077\"},\"coordinates\":null,\"group\":null,\"ticker\":null},\"id\":\"1080\",\"type\":\"Grid\"},{\"attributes\":{\"label\":{\"value\":\"Account Value (No Trades)\"},\"renderers\":[{\"id\":\"1200\"}]},\"id\":\"1227\",\"type\":\"LegendItem\"},{\"attributes\":{},\"id\":\"1090\",\"type\":\"HelpTool\"},{\"attributes\":{\"coordinates\":null,\"formatter\":{\"id\":\"1109\"},\"group\":null,\"major_label_policy\":{\"id\":\"1110\"},\"ticker\":{\"id\":\"1082\"}},\"id\":\"1081\",\"type\":\"LinearAxis\"},{\"attributes\":{\"source\":{\"id\":\"1195\"}},\"id\":\"1201\",\"type\":\"CDSView\"},{\"attributes\":{\"axis\":{\"id\":\"1081\"},\"coordinates\":null,\"dimension\":1,\"group\":null,\"ticker\":null},\"id\":\"1084\",\"type\":\"Grid\"},{\"attributes\":{},\"id\":\"1082\",\"type\":\"BasicTicker\"},{\"attributes\":{},\"id\":\"1212\",\"type\":\"UnionRenderers\"},{\"attributes\":{\"mantissas\":[1,2,5],\"max_interval\":500.0,\"num_minor_ticks\":0},\"id\":\"1181\",\"type\":\"AdaptiveTicker\"},{\"attributes\":{\"data\":{\"time\":[1578441600000.0,1578441600000.0,1578528000000.0,1578614400000.0,1578700800000.0,1578787200000.0,1578873600000.0,1578960000000.0,1579046400000.0,1579132800000.0,1579219200000.0,1579305600000.0,1579392000000.0,1579478400000.0,1579564800000.0,1579651200000.0,1579737600000.0,1579824000000.0,1579910400000.0,1579996800000.0,1580083200000.0,1580169600000.0,1580256000000.0,1580342400000.0,1580428800000.0,1580515200000.0,1580601600000.0,1580688000000.0,1580774400000.0,1580860800000.0,1580947200000.0,1581033600000.0,1581120000000.0,1581206400000.0,1581292800000.0,1581379200000.0,1581465600000.0,1581552000000.0,1581638400000.0,1581724800000.0,1581811200000.0,1581897600000.0,1581984000000.0,1582070400000.0,1582156800000.0,1582243200000.0,1582329600000.0,1582416000000.0,1582502400000.0,1582588800000.0,1582675200000.0,1582761600000.0,1582848000000.0,1582934400000.0,1583020800000.0,1583107200000.0,1583193600000.0,1583280000000.0,1583366400000.0,1583452800000.0,1583539200000.0,1583625600000.0,1583715600000.0,1583802000000.0,1583888400000.0,1583974800000.0,1584061200000.0,1584147600000.0,1584234000000.0,1584320400000.0,1584406800000.0,1584493200000.0,1584579600000.0,1584666000000.0,1584752400000.0,1584838800000.0,1584925200000.0,1585011600000.0,1585098000000.0,1585184400000.0,1585270800000.0,1585357200000.0,1585443600000.0,1585530000000.0,1585616400000.0,1585702800000.0,1585789200000.0,1585875600000.0,1585962000000.0,1586048400000.0,1586134800000.0,1586221200000.0,1586307600000.0,1586394000000.0,1586480400000.0,1586566800000.0,1586653200000.0,1586739600000.0,1586826000000.0,1586912400000.0,1586998800000.0,1587085200000.0,1587171600000.0,1587258000000.0,1587344400000.0,1587430800000.0,1587517200000.0,1587603600000.0,1587690000000.0,1587776400000.0,1587862800000.0,1587949200000.0,1588035600000.0,1588122000000.0,1588208400000.0,1588294800000.0,1588381200000.0,1588467600000.0,1588554000000.0,1588640400000.0,1588726800000.0,1588813200000.0,1588899600000.0,1588986000000.0,1589072400000.0,1589158800000.0,1589245200000.0,1589331600000.0,1589418000000.0,1589504400000.0,1589590800000.0,1589677200000.0,1589763600000.0,1589850000000.0,1589936400000.0,1590022800000.0,1590109200000.0,1590195600000.0,1590282000000.0,1590368400000.0,1590454800000.0,1590541200000.0,1590627600000.0,1590714000000.0,1590800400000.0,1590886800000.0,1590973200000.0,1591059600000.0,1591146000000.0,1591232400000.0,1591318800000.0,1591405200000.0,1591491600000.0,1591578000000.0,1591664400000.0,1591750800000.0,1591837200000.0,1591923600000.0,1592010000000.0,1592096400000.0,1592182800000.0,1592269200000.0,1592355600000.0,1592442000000.0,1592528400000.0,1592614800000.0,1592701200000.0,1592787600000.0,1592874000000.0,1592960400000.0,1593046800000.0,1593133200000.0,1593219600000.0,1593306000000.0,1593392400000.0,1593478800000.0,1593565200000.0,1593651600000.0,1593738000000.0,1593824400000.0,1593910800000.0,1593997200000.0,1594083600000.0,1594170000000.0,1594256400000.0,1594342800000.0,1594429200000.0,1594515600000.0,1594602000000.0,1594688400000.0,1594774800000.0,1594861200000.0,1594947600000.0,1595034000000.0,1595120400000.0,1595206800000.0,1595293200000.0,1595379600000.0,1595466000000.0,1595552400000.0,1595638800000.0,1595725200000.0,1595811600000.0,1595898000000.0,1595984400000.0,1596070800000.0,1596157200000.0,1596243600000.0,1596330000000.0,1596416400000.0,1596502800000.0,1596589200000.0,1596675600000.0,1596762000000.0,1596848400000.0,1596934800000.0,1597021200000.0,1597107600000.0,1597194000000.0,1597280400000.0,1597366800000.0,1597453200000.0,1597539600000.0,1597626000000.0,1597712400000.0,1597798800000.0,1597885200000.0,1597971600000.0,1598058000000.0,1598144400000.0,1598230800000.0,1598317200000.0,1598403600000.0,1598490000000.0,1598576400000.0,1598662800000.0,1598749200000.0,1598835600000.0,1598922000000.0,1599008400000.0,1599094800000.0,1599181200000.0,1599267600000.0,1599354000000.0,1599440400000.0,1599526800000.0,1599613200000.0,1599699600000.0,1599786000000.0,1599872400000.0,1599958800000.0,1600045200000.0,1600131600000.0,1600218000000.0,1600304400000.0,1600390800000.0,1600477200000.0,1600563600000.0,1600650000000.0,1600736400000.0,1600822800000.0,1600909200000.0,1600995600000.0,1601082000000.0,1601168400000.0,1601254800000.0,1601341200000.0,1601427600000.0,1601514000000.0,1601600400000.0,1601686800000.0,1601773200000.0,1601859600000.0,1601946000000.0,1602032400000.0,1602118800000.0,1602205200000.0,1602291600000.0,1602378000000.0,1602464400000.0,1602550800000.0,1602637200000.0,1602723600000.0,1602810000000.0,1602896400000.0,1602982800000.0,1603069200000.0,1603155600000.0,1603242000000.0,1603328400000.0,1603414800000.0,1603501200000.0,1603587600000.0,1603674000000.0,1603760400000.0,1603846800000.0,1603933200000.0,1604019600000.0,1604106000000.0,1604192400000.0,1604275200000.0,1604361600000.0,1604448000000.0,1604534400000.0,1604620800000.0,1604707200000.0,1604793600000.0,1604880000000.0,1604966400000.0,1605052800000.0,1605139200000.0,1605225600000.0,1605312000000.0,1605398400000.0,1605484800000.0,1605571200000.0,1605657600000.0,1605744000000.0,1605830400000.0,1605916800000.0,1606003200000.0,1606089600000.0,1606176000000.0,1606262400000.0,1606348800000.0,1606435200000.0,1606521600000.0,1606608000000.0,1606694400000.0,1606780800000.0,1606867200000.0,1606953600000.0,1607040000000.0,1607126400000.0,1607212800000.0,1607299200000.0,1607385600000.0,1607472000000.0,1607558400000.0,1607644800000.0,1607731200000.0,1607817600000.0,1607904000000.0,1607990400000.0,1608076800000.0,1608163200000.0,1608249600000.0,1608336000000.0,1608422400000.0,1608508800000.0,1608595200000.0,1608681600000.0,1608768000000.0,1608854400000.0,1608940800000.0,1609027200000.0,1609113600000.0,1609200000000.0,1609286400000.0,1609372800000.0,1609459200000.0,1609545600000.0,1609632000000.0,1609718400000.0,1609804800000.0,1609891200000.0,1609977600000.0,1610064000000.0,1610150400000.0,1610236800000.0,1610323200000.0,1610409600000.0,1610496000000.0,1610582400000.0,1610668800000.0,1610755200000.0,1610841600000.0,1610928000000.0,1611014400000.0,1611100800000.0,1611187200000.0,1611273600000.0,1611360000000.0,1611446400000.0,1611532800000.0,1611619200000.0,1611705600000.0,1611792000000.0,1611878400000.0,1611964800000.0,1612051200000.0,1612137600000.0,1612224000000.0,1612310400000.0,1612396800000.0,1612483200000.0,1612569600000.0,1612656000000.0,1612742400000.0,1612828800000.0,1612915200000.0,1613001600000.0,1613088000000.0,1613174400000.0,1613260800000.0,1613347200000.0,1613433600000.0,1613520000000.0,1613606400000.0,1613692800000.0,1613779200000.0,1613865600000.0,1613952000000.0,1614038400000.0,1614124800000.0,1614211200000.0,1614297600000.0,1614384000000.0,1614470400000.0,1614556800000.0,1614643200000.0,1614729600000.0,1614816000000.0,1614902400000.0,1614988800000.0,1615075200000.0,1615161600000.0,1615248000000.0,1615334400000.0,1615420800000.0,1615507200000.0,1615593600000.0,1615680000000.0,1615770000000.0,1615856400000.0,1615942800000.0,1616029200000.0,1616115600000.0,1616202000000.0,1616288400000.0,1616374800000.0,1616461200000.0,1616547600000.0,1616634000000.0,1616720400000.0,1616806800000.0,1616893200000.0,1616979600000.0,1617066000000.0,1617152400000.0,1617238800000.0,1617325200000.0,1617411600000.0,1617498000000.0,1617584400000.0,1617670800000.0,1617757200000.0,1617843600000.0,1617930000000.0,1618016400000.0,1618102800000.0,1618189200000.0,1618275600000.0,1618362000000.0,1618448400000.0,1618534800000.0,1618621200000.0,1618707600000.0,1618794000000.0,1618880400000.0,1618966800000.0,1619053200000.0,1619139600000.0,1619226000000.0,1619312400000.0,1619398800000.0,1619485200000.0,1619571600000.0,1619658000000.0,1619744400000.0,1619830800000.0,1619917200000.0,1620003600000.0,1620090000000.0,1620176400000.0,1620262800000.0,1620349200000.0,1620435600000.0,1620522000000.0,1620608400000.0,1620694800000.0,1620781200000.0,1620867600000.0,1620954000000.0,1621040400000.0,1621126800000.0,1621213200000.0,1621299600000.0,1621386000000.0,1621472400000.0,1621558800000.0,1621645200000.0,1621731600000.0,1621818000000.0,1621904400000.0,1621990800000.0,1622077200000.0,1622163600000.0,1622250000000.0,1622336400000.0,1622422800000.0,1622509200000.0,1622595600000.0,1622682000000.0,1622768400000.0,1622854800000.0,1622941200000.0,1623027600000.0,1623114000000.0,1623200400000.0,1623286800000.0,1623373200000.0,1623459600000.0,1623546000000.0,1623632400000.0,1623718800000.0,1623805200000.0,1623891600000.0,1623978000000.0,1624064400000.0,1624150800000.0,1624237200000.0,1624323600000.0,1624410000000.0,1624496400000.0,1624582800000.0,1624669200000.0,1624755600000.0,1624842000000.0,1624928400000.0,1625014800000.0,1625101200000.0,1625187600000.0,1625274000000.0,1625360400000.0,1625446800000.0,1625533200000.0,1625619600000.0,1625706000000.0,1625792400000.0,1625878800000.0,1625965200000.0,1626051600000.0,1626138000000.0,1626224400000.0,1626310800000.0,1626397200000.0,1626483600000.0,1626570000000.0,1626656400000.0,1626742800000.0,1626829200000.0,1626915600000.0,1627002000000.0,1627088400000.0,1627174800000.0,1627261200000.0,1627347600000.0,1627434000000.0,1627520400000.0,1627606800000.0,1627693200000.0,1627779600000.0,1627866000000.0,1627952400000.0,1628038800000.0,1628125200000.0,1628211600000.0,1628298000000.0,1628384400000.0,1628470800000.0,1628557200000.0,1628643600000.0,1628730000000.0,1628816400000.0,1628902800000.0,1628989200000.0,1629075600000.0,1629162000000.0,1629248400000.0,1629334800000.0,1629421200000.0,1629507600000.0,1629594000000.0,1629680400000.0,1629766800000.0,1629853200000.0,1629939600000.0,1630026000000.0,1630112400000.0,1630198800000.0,1630285200000.0,1630371600000.0,1630458000000.0,1630544400000.0,1630630800000.0,1630717200000.0,1630803600000.0,1630890000000.0,1630976400000.0,1631062800000.0,1631149200000.0,1631235600000.0,1631322000000.0,1631408400000.0,1631494800000.0,1631581200000.0,1631667600000.0,1631754000000.0,1631840400000.0,1631926800000.0,1632013200000.0,1632099600000.0,1632186000000.0,1632272400000.0,1632358800000.0,1632445200000.0,1632531600000.0,1632618000000.0,1632704400000.0,1632790800000.0,1632877200000.0,1632963600000.0,1633050000000.0,1633136400000.0,1633222800000.0,1633309200000.0,1633395600000.0,1633482000000.0,1633568400000.0,1633654800000.0,1633741200000.0,1633827600000.0,1633914000000.0,1634000400000.0,1634086800000.0,1634173200000.0,1634259600000.0,1634346000000.0,1634432400000.0,1634518800000.0,1634605200000.0,1634691600000.0,1634778000000.0,1634864400000.0,1634950800000.0,1635037200000.0,1635123600000.0,1635210000000.0,1635296400000.0,1635382800000.0,1635469200000.0,1635555600000.0,1635642000000.0,1635728400000.0,1635814800000.0,1635901200000.0,1635987600000.0,1636074000000.0,1636160400000.0,1636246800000.0,1636329600000.0,1636416000000.0,1636502400000.0,1636588800000.0,1636675200000.0,1636761600000.0,1636848000000.0,1636934400000.0,1637020800000.0,1637107200000.0,1637193600000.0,1637280000000.0,1637366400000.0,1637452800000.0,1637539200000.0,1637625600000.0,1637712000000.0,1637798400000.0,1637884800000.0,1637971200000.0,1638057600000.0,1638144000000.0,1638230400000.0,1638316800000.0,1638403200000.0,1638489600000.0,1638576000000.0,1638662400000.0,1638748800000.0,1638835200000.0,1638921600000.0,1639008000000.0,1639094400000.0,1639180800000.0,1639267200000.0,1639353600000.0,1639440000000.0,1639526400000.0,1639612800000.0,1639699200000.0,1639785600000.0,1639872000000.0,1639958400000.0,1640044800000.0,1640131200000.0,1640217600000.0,1640304000000.0,1640390400000.0,1640476800000.0,1640563200000.0,1640649600000.0,1640736000000.0,1640822400000.0,1640908800000.0,1640995200000.0,1641081600000.0,1641168000000.0,1641254400000.0,1641340800000.0],\"value\":[0.0,0.0,0.0,0.0,0.0,0.0,0.0,0.0,0.0,0.0,0.0,0.0,0.0,0.0,0.0,0.0,0.0,0.0,0.0,0.0,0.0,0.0,0.0,0.0,0.0,0.0,0.0,0.0,0.0,0.0,0.0,0.0,0.0,0.0,0.0,0.0,0.0,0.0,0.0,0.0,0.0,0.0,0.0,0.0,0.0,0.0,0.0,0.0,0.0,0.0,0.0,0.0,0.0,0.0,0.0,0.0,0.0,0.0,0.0,0.0,0.0,0.0,0.0,0.0,0.0,0.0,0.0,0.0,0.0,0.0,0.0,0.0,0.0,0.0,0.0,0.0,0.0,0.0,0.0,0.0,0.0,0.0,0.0,0.0,0.0,0.0,0.0,0.0,0.0,0.0,0.0,0.0,0.0,0.0,0.0,0.0,0.0,0.0,0.0,0.0,0.0,0.0,0.0,0.0,0.0,0.0,0.0,0.0,0.0,0.0,0.0,0.0,0.0,0.0,0.0,0.0,0.0,0.0,0.0,0.0,0.0,0.0,0.0,0.0,0.0,0.0,0.0,0.0,0.0,0.0,0.0,0.0,0.0,0.0,0.0,0.0,0.0,0.0,55.0,55.0,55.0,55.0,55.0,55.0,55.0,55.0,55.0,55.0,55.0,55.0,55.0,55.0,55.0,55.0,55.0,55.0,55.0,55.0,55.0,55.0,55.0,55.0,55.0,55.0,55.0,55.0,55.0,55.0,55.0,55.0,55.0,55.0,55.0,55.0,55.0,55.0,55.0,55.0,55.0,55.0,55.0,55.0,55.0,55.0,55.0,55.0,55.0,55.0,55.0,55.0,55.0,55.0,55.0,55.0,55.0,55.0,55.0,55.0,55.0,55.0,55.0,55.0,55.0,55.0,55.0,55.0,55.0,55.0,55.0,55.0,55.0,55.0,55.0,55.0,55.0,55.0,55.0,55.0,55.0,55.0,55.0,55.0,55.0,55.0,55.0,55.0,55.0,55.0,55.0,55.0,55.0,55.0,55.0,55.0,55.0,55.0,55.0,55.0,55.0,55.0,55.0,55.0,55.0,55.0,55.0,55.0,55.0,55.0,55.0,55.0,55.0,55.0,55.0,55.0,55.0,55.0,55.0,55.0,55.0,55.0,55.0,55.0,55.0,55.0,55.0,55.0,55.0,55.0,55.0,55.0,55.0,55.0,55.0,55.0,55.0,55.0,55.0,55.0,55.0,55.0,55.0,55.0,55.0,55.0,55.0,55.0,55.0,55.0,55.0,55.0,55.0,55.0,55.0,55.0,55.0,55.0,55.0,55.0,55.0,55.0,55.0,55.0,55.0,55.0,55.0,55.0,55.0,55.0,55.0,55.0,55.0,55.0,55.0,55.0,55.0,55.0,55.0,55.0,55.0,55.0,55.0,55.0,55.0,55.0,55.0,55.0,55.0,55.0,55.0,55.0,55.0,55.0,55.0,55.0,55.0,55.0,55.0,55.0,55.0,55.0,55.0,55.0,55.0,55.0,55.0,55.0,55.0,55.0,55.0,55.0,55.0,55.0,55.0,55.0,55.0,55.0,55.0,55.0,55.0,55.0,55.0,55.0,55.0,55.0,55.0,55.0,55.0,55.0,55.0,55.0,55.0,55.0,55.0,55.0,55.0,55.0,55.0,55.0,55.0,55.0,55.0,55.0,55.0,55.0,55.0,55.0,55.0,55.0,55.0,55.0,55.0,55.0,55.0,55.0,55.0,55.0,55.0,55.0,55.0,55.0,55.0,55.0,55.0,55.0,55.0,55.0,55.0,55.0,55.0,55.0,55.0,55.0,55.0,55.0,55.0,55.0,55.0,55.0,55.0,55.0,55.0,55.0,55.0,55.0,55.0,55.0,55.0,55.0,55.0,55.0,55.0,55.0,55.0,55.0,55.0,55.0,55.0,55.0,55.0,55.0,55.0,55.0,55.0,55.0,55.0,55.0,55.0,55.0,55.0,55.0,55.0,55.0,55.0,55.0,55.0,55.0,55.0,55.0,55.0,55.0,55.0,55.0,55.0,55.0,55.0,55.0,55.0,55.0,55.0,55.0,55.0,55.0,55.0,55.0,55.0,55.0,55.0,55.0,55.0,55.0,55.0,55.0,55.0,55.0,55.0,55.0,55.0,55.0,55.0,55.0,55.0,55.0,55.0,55.0,55.0,55.0,55.0,55.0,55.0,55.0,55.0,55.0,55.0,55.0,55.0,55.0,55.0,55.0,55.0,55.0,55.0,55.0,55.0,55.0,55.0,55.0,55.0,55.0,55.0,55.0,55.0,55.0,55.0,55.0,55.0,55.0,55.0,55.0,55.0,55.0,55.0,55.0,55.0,55.0,55.0,55.0,55.0,55.0,55.0,55.0,55.0,55.0,55.0,55.0,55.0,55.0,55.0,55.0,55.0,55.0,55.0,55.0,55.0,55.0,55.0,55.0,55.0,55.0,55.0,55.0,55.0,55.0,55.0,55.0,55.0,55.0,55.0,55.0,55.0,55.0,55.0,55.0,55.0,55.0,55.0,55.0,55.0,55.0,55.0,55.0,55.0,55.0,55.0,55.0,55.0,55.0,55.0,55.0,55.0,55.0,55.0,55.0,55.0,55.0,55.0,55.0,55.0,55.0,55.0,55.0,55.0,55.0,55.0,55.0,55.0,55.0,55.0,55.0,55.0,55.0,55.0,55.0,55.0,55.0,55.0,55.0,55.0,55.0,55.0,55.0,55.0,55.0,55.0,55.0,55.0,55.0,55.0,55.0,55.0,55.0,55.0,55.0,55.0,55.0,55.0,55.0,55.0,55.0,55.0,55.0,55.0,55.0,55.0,55.0,55.0,55.0,55.0,55.0,55.0,55.0,55.0,55.0,55.0,55.0,55.0,55.0,55.0,55.0,55.0,55.0,55.0,55.0,55.0,55.0,55.0,55.0,55.0,55.0,55.0,55.0,55.0,55.0,55.0,55.0,55.0,55.0,55.0,55.0,55.0,55.0,55.0,55.0,55.0,55.0,55.0,55.0,55.0,55.0,55.0,55.0,55.0,55.0,55.0,55.0,55.0,55.0,55.0,55.0,55.0,55.0,55.0,55.0,55.0,55.0,55.0,55.0,55.0,55.0,55.0,55.0,55.0,55.0,55.0,55.0,55.0,55.0,55.0,55.0,55.0,55.0,55.0,55.0,55.0,55.0,55.0,55.0,55.0,55.0,55.0,55.0]},\"selected\":{\"id\":\"1115\"},\"selection_policy\":{\"id\":\"1114\"}},\"id\":\"1099\",\"type\":\"ColumnDataSource\"},{\"attributes\":{\"mantissas\":[1,2,5],\"max_interval\":500.0,\"num_minor_ticks\":0},\"id\":\"1053\",\"type\":\"AdaptiveTicker\"},{\"attributes\":{},\"id\":\"1086\",\"type\":\"WheelZoomTool\"},{\"attributes\":{\"base\":60,\"mantissas\":[1,2,5,10,15,20,30],\"max_interval\":1800000.0,\"min_interval\":1000.0,\"num_minor_ticks\":0},\"id\":\"1182\",\"type\":\"AdaptiveTicker\"},{\"attributes\":{},\"id\":\"1085\",\"type\":\"PanTool\"},{\"attributes\":{\"base\":24,\"mantissas\":[1,2,4,6,8,12],\"max_interval\":43200000.0,\"min_interval\":3600000.0,\"num_minor_ticks\":0},\"id\":\"1183\",\"type\":\"AdaptiveTicker\"},{\"attributes\":{\"overlay\":{\"id\":\"1091\"}},\"id\":\"1087\",\"type\":\"BoxZoomTool\"},{\"attributes\":{\"base\":60,\"mantissas\":[1,2,5,10,15,20,30],\"max_interval\":1800000.0,\"min_interval\":1000.0,\"num_minor_ticks\":0},\"id\":\"1054\",\"type\":\"AdaptiveTicker\"},{\"attributes\":{\"months\":[0,2,4,6,8,10]},\"id\":\"1061\",\"type\":\"MonthsTicker\"},{\"attributes\":{},\"id\":\"1088\",\"type\":\"SaveTool\"},{\"attributes\":{},\"id\":\"1213\",\"type\":\"Selection\"},{\"attributes\":{\"days\":[1,8,15,22]},\"id\":\"1186\",\"type\":\"DaysTicker\"},{\"attributes\":{},\"id\":\"1089\",\"type\":\"ResetTool\"},{\"attributes\":{\"base\":24,\"mantissas\":[1,2,4,6,8,12],\"max_interval\":43200000.0,\"min_interval\":3600000.0,\"num_minor_ticks\":0},\"id\":\"1055\",\"type\":\"AdaptiveTicker\"},{\"attributes\":{\"days\":[1,15]},\"id\":\"1187\",\"type\":\"DaysTicker\"},{\"attributes\":{},\"id\":\"1064\",\"type\":\"YearsTicker\"},{\"attributes\":{\"days\":[1,4,7,10,13,16,19,22,25,28]},\"id\":\"1185\",\"type\":\"DaysTicker\"},{\"attributes\":{},\"id\":\"1192\",\"type\":\"YearsTicker\"},{\"attributes\":{\"coordinates\":null,\"data_source\":{\"id\":\"1035\"},\"glyph\":{\"id\":\"1037\"},\"group\":null,\"hover_glyph\":null,\"muted_glyph\":{\"id\":\"1039\"},\"nonselection_glyph\":{\"id\":\"1038\"},\"view\":{\"id\":\"1041\"}},\"id\":\"1040\",\"type\":\"GlyphRenderer\"},{\"attributes\":{\"coordinates\":null,\"group\":null,\"items\":[{\"id\":\"1194\"},{\"id\":\"1227\"}],\"location\":\"top_left\",\"title\":\"Account Value (USD)\",\"title_text_font_size\":\"20px\",\"title_text_font_style\":\"bold\"},\"id\":\"1193\",\"type\":\"Legend\"},{\"attributes\":{\"days\":[1,2,3,4,5,6,7,8,9,10,11,12,13,14,15,16,17,18,19,20,21,22,23,24,25,26,27,28,29,30,31]},\"id\":\"1056\",\"type\":\"DaysTicker\"},{\"attributes\":{\"days\":[1,4,7,10,13,16,19,22,25,28]},\"id\":\"1057\",\"type\":\"DaysTicker\"},{\"attributes\":{\"months\":[0,1,2,3,4,5,6,7,8,9,10,11]},\"id\":\"1060\",\"type\":\"MonthsTicker\"},{\"attributes\":{\"bottom_units\":\"screen\",\"coordinates\":null,\"fill_alpha\":0.5,\"fill_color\":\"lightgrey\",\"group\":null,\"left_units\":\"screen\",\"level\":\"overlay\",\"line_alpha\":1.0,\"line_color\":\"black\",\"line_dash\":[4,4],\"line_width\":2,\"right_units\":\"screen\",\"syncable\":false,\"top_units\":\"screen\"},\"id\":\"1091\",\"type\":\"BoxAnnotation\"},{\"attributes\":{\"source\":{\"id\":\"1163\"}},\"id\":\"1169\",\"type\":\"CDSView\"},{\"attributes\":{\"months\":[0,1,2,3,4,5,6,7,8,9,10,11]},\"id\":\"1188\",\"type\":\"MonthsTicker\"},{\"attributes\":{\"months\":[0,2,4,6,8,10]},\"id\":\"1189\",\"type\":\"MonthsTicker\"},{\"attributes\":{\"coordinates\":null,\"group\":null,\"items\":[{\"id\":\"1066\"}],\"location\":\"top_left\",\"title\":\"USD\",\"title_text_font_size\":\"20px\",\"title_text_font_style\":\"bold\"},\"id\":\"1065\",\"type\":\"Legend\"},{\"attributes\":{\"months\":[0,6]},\"id\":\"1191\",\"type\":\"MonthsTicker\"},{\"attributes\":{\"days\":[1,15]},\"id\":\"1059\",\"type\":\"DaysTicker\"},{\"attributes\":{\"months\":[0,4,8]},\"id\":\"1190\",\"type\":\"MonthsTicker\"},{\"attributes\":{\"axis\":{\"id\":\"1145\"},\"coordinates\":null,\"dimension\":1,\"group\":null,\"ticker\":null},\"id\":\"1148\",\"type\":\"Grid\"},{\"attributes\":{\"tools\":[{\"id\":\"1085\"},{\"id\":\"1086\"},{\"id\":\"1087\"},{\"id\":\"1088\"},{\"id\":\"1089\"},{\"id\":\"1090\"},{\"id\":\"1003\"}]},\"id\":\"1092\",\"type\":\"Toolbar\"},{\"attributes\":{\"months\":[0,6]},\"id\":\"1063\",\"type\":\"MonthsTicker\"},{\"attributes\":{\"source\":{\"id\":\"1035\"}},\"id\":\"1041\",\"type\":\"CDSView\"},{\"attributes\":{\"overlay\":{\"id\":\"1155\"}},\"id\":\"1151\",\"type\":\"BoxZoomTool\"},{\"attributes\":{\"label\":{\"value\":\"USD\"},\"renderers\":[{\"id\":\"1040\"}]},\"id\":\"1066\",\"type\":\"LegendItem\"},{\"attributes\":{\"label\":{\"value\":\"Account Value (USD)\"},\"renderers\":[{\"id\":\"1168\"}]},\"id\":\"1194\",\"type\":\"LegendItem\"}],\"root_ids\":[\"1229\"]},\"title\":\"Bokeh Application\",\"version\":\"2.4.2\"}};\n",
       "  const render_items = [{\"docid\":\"8e48017e-9c8c-4e6c-8624-1a252bbfc409\",\"root_ids\":[\"1229\"],\"roots\":{\"1229\":\"c59eaf75-58d3-417e-a523-b2eacdd44db8\"}}];\n",
       "  root.Bokeh.embed.embed_items_notebook(docs_json, render_items);\n",
       "\n",
       "  }\n",
       "  if (root.Bokeh !== undefined) {\n",
       "    embed_document(root);\n",
       "  } else {\n",
       "    let attempts = 0;\n",
       "    const timer = setInterval(function(root) {\n",
       "      if (root.Bokeh !== undefined) {\n",
       "        clearInterval(timer);\n",
       "        embed_document(root);\n",
       "      } else {\n",
       "        attempts++;\n",
       "        if (attempts > 100) {\n",
       "          clearInterval(timer);\n",
       "          console.log(\"Bokeh: ERROR: Unable to run BokehJS code because BokehJS library is missing\");\n",
       "        }\n",
       "      }\n",
       "    }, 10, root)\n",
       "  }\n",
       "})(window);"
      ],
      "application/vnd.bokehjs_exec.v0+json": ""
     },
     "metadata": {
      "application/vnd.bokehjs_exec.v0+json": {
       "id": "1229"
      }
     },
     "output_type": "display_data"
    }
   ],
   "source": [
    "results = s.backtest(initial_values={\"USD\": 10000}, to=\"2y\")"
   ]
  },
  {
   "cell_type": "code",
   "execution_count": 18,
   "id": "f78d2d5c",
   "metadata": {},
   "outputs": [
    {
     "data": {
      "text/plain": [
       "{'Compound Annual Growth Rate (%)': 35.0,\n",
       " 'Cumulative Returns (%)': 81.0,\n",
       " 'Max Drawdown (%)': 13.0,\n",
       " 'Variance (%)': 1.37,\n",
       " 'Sortino Ratio': 1.27,\n",
       " 'Sharpe Ratio': 1.2,\n",
       " 'Calmar Ratio': 1.65,\n",
       " 'Volatility': 0.01,\n",
       " 'Value-at-Risk': 223.96,\n",
       " 'Conditional Value-at-Risk': 5.94,\n",
       " 'Risk Free Return Rate': 0.0,\n",
       " 'Resampled Time': 86400.0}"
      ]
     },
     "execution_count": 18,
     "metadata": {},
     "output_type": "execute_result"
    }
   ],
   "source": [
    "results.metrics"
   ]
  },
  {
   "cell_type": "markdown",
   "id": "97ec7f8b",
   "metadata": {},
   "source": [
    "Nice! We just made a model that successfully bought MSFT on a golden cross strategy on daily OHLC candles! \n",
    "\n",
    "If you liked this tutorial, check out more here at https://docs.blankly.finance or [join our Discord](https://discord.gg/xJAjGEAXNS)"
   ]
  }
 ],
 "metadata": {
  "kernelspec": {
   "display_name": "Python 3 (ipykernel)",
   "language": "python",
   "name": "python3"
  },
  "language_info": {
   "codemirror_mode": {
    "name": "ipython",
    "version": 3
   },
   "file_extension": ".py",
   "mimetype": "text/x-python",
   "name": "python",
   "nbconvert_exporter": "python",
   "pygments_lexer": "ipython3",
   "version": "3.9.12"
  }
 },
 "nbformat": 4,
 "nbformat_minor": 5
}
